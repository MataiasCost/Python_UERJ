{
  "nbformat": 4,
  "nbformat_minor": 0,
  "metadata": {
    "kernelspec": {
      "display_name": "Python 3",
      "language": "python",
      "name": "python3"
    },
    "language_info": {
      "codemirror_mode": {
        "name": "ipython",
        "version": 3
      },
      "file_extension": ".py",
      "mimetype": "text/x-python",
      "name": "python",
      "nbconvert_exporter": "python",
      "pygments_lexer": "ipython3",
      "version": "3.6.4"
    },
    "colab": {
      "name": "aula12_classes.ipynb",
      "provenance": [],
      "collapsed_sections": [],
      "include_colab_link": true
    }
  },
  "cells": [
    {
      "cell_type": "markdown",
      "metadata": {
        "id": "view-in-github",
        "colab_type": "text"
      },
      "source": [
        "<a href=\"https://colab.research.google.com/github/MataiasCost/Python_UERJ/blob/main/Aula_12_classes.ipynb\" target=\"_parent\"><img src=\"https://colab.research.google.com/assets/colab-badge.svg\" alt=\"Open In Colab\"/></a>"
      ]
    },
    {
      "cell_type": "markdown",
      "metadata": {
        "id": "nPvXM-BGzRlD"
      },
      "source": [
        "# Classes e Objetos\n",
        "\n",
        "Python é uma linguagem de programação **orientada a objetos**.\n",
        "\n",
        "Até agora, a maioria dos programas foi escrita usando um *paradigma* de **programação procedural**:\n",
        "   * O foco está em escrever funções ou ***procedimentos*** que operam em dados. \n",
        "   \n",
        "Na **programação orientada a objetos**:\n",
        "   * o foco está na criação de objetos que contêm ***dados e funcionalidade*** juntos. \n",
        "   * Normalmente, cada definição de objeto corresponde a algum objeto ou conceito no mundo real, e as funções que operam nesse objeto correspondem às formas pelas quais os objetos do mundo real interagem.\n",
        "\n",
        "\n",
        "## Tipos de dados compostos definidos pelo usuário\n",
        "\n",
        "Até agora, já vimos **classes** como:\n",
        "   * str \n",
        "   * int \n",
        "   * float \n",
        "   * Turtle\n",
        "   * Listas\n",
        "   * Dicionários\n",
        "   \n",
        "Agora estamos prontos para criar nossa própria **classe** definida pelo usuário: o Ponto.\n",
        "\n",
        "Podemos representar um ponto como o conjunto de suas coordenadas x, y: P(x,y).\n",
        "\n",
        "Com isso, criaremos uma nova **classe** chamada Ponto:"
      ]
    },
    {
      "cell_type": "code",
      "metadata": {
        "id": "izFeGZ9VzRlE"
      },
      "source": [
        "class Point:\n",
        "    \"\"\" A classe Ponto representa e manipula as coordenadas x,y . \"\"\"\n",
        "\n",
        "    def __init__(self):\n",
        "        \"\"\" Cria um novo ponto posicionado na origem. \"\"\"\n",
        "        self.x = 0\n",
        "        self.y = 0"
      ],
      "execution_count": 2,
      "outputs": []
    },
    {
      "cell_type": "markdown",
      "metadata": {
        "id": "gwA1Pq-4zRlE"
      },
      "source": [
        "* As definições de classe podem aparecer em qualquer lugar de um programa, mas geralmente estão próximas do início (após as instruções de importação).\n",
        "\n",
        "A sintaxe de uma **classe**:\n",
        "\n",
        "   * tem um **cabeçalho** que começa com a palavra-chave, **class**, seguido do **nome da classe** e termina com dois pontos. \n",
        "   * Os níveis de **indentação** informam onde a **classe** termina.\n",
        "   * Cada classe deve ter um método com o nome especial __init__. Esse **método inicializador** é chamado automaticamente sempre que uma nova instância do Ponto é criada.\n",
        "      * Ele fornece ao programador a oportunidade de configurar os atributos necessários na nova instância, fornecendo a eles seus valores / valores iniciais. \n",
        "      * O parâmetro **self** é configurado automaticamente para referenciar o objeto recém-criado que precisa ser inicializado.\n",
        "\n",
        "Vamos usar nossa nova classe Ponto:"
      ]
    },
    {
      "cell_type": "code",
      "metadata": {
        "id": "EQAct1vyzRlE",
        "outputId": "a8193408-b1b7-46b3-8704-096f532b43b1",
        "colab": {
          "base_uri": "https://localhost:8080/"
        }
      },
      "source": [
        "p = Point()         # Instanciar um objeto do tipo Ponto\n",
        "q = Point()         # Fazer um segundo objeto do tipo Ponto\n",
        "\n",
        "print(p.x, p.y, q.x, q.y)  # Cada objeto do tipo ponto tem seu próprio x e y "
      ],
      "execution_count": 3,
      "outputs": [
        {
          "output_type": "stream",
          "name": "stdout",
          "text": [
            "0 0 0 0\n"
          ]
        }
      ]
    },
    {
      "cell_type": "markdown",
      "metadata": {
        "id": "maUzmMQgzRlF"
      },
      "source": [
        "**Por que a declaração de print acima retorna valores iguais a 0 ?**\n",
        "\n",
        "Já instanciamos objetos antes, lembram?"
      ]
    },
    {
      "cell_type": "code",
      "metadata": {
        "id": "8YO5Yp1-zRlF",
        "outputId": "ff30d632-5ccf-4636-9547-3ce282bc4248",
        "colab": {
          "base_uri": "https://localhost:8080/",
          "height": 768
        }
      },
      "source": [
        "# declarações para instalar e importar o módulo Turtle no âmbito do Google Colab\n",
        "!pip3 install ColabTurtle\n",
        "from ColabTurtle import Turtle as joana\n",
        "joana.initializeTurtle() \n",
        "joana.color('red')\n",
        "\n",
        "alex = ColabTurtle.joana # Cria uma tartaruga, atribui a joana\n",
        "alex.initializeTurtle() \n",
        "alex.color('blue')"
      ],
      "execution_count": 8,
      "outputs": [
        {
          "output_type": "stream",
          "name": "stdout",
          "text": [
            "Requirement already satisfied: ColabTurtle in /usr/local/lib/python3.7/dist-packages (2.1.0)\n"
          ]
        },
        {
          "output_type": "display_data",
          "data": {
            "text/html": [
              "\n",
              "      <svg width=\"800\" height=\"500\">\n",
              "        <rect width=\"100%\" height=\"100%\" fill=\"black\"/>\n",
              "        \n",
              "        <g visibility=visible transform=\"rotate(360,400,250) translate(382, 232)\">\n",
              "<path style=\" stroke:none;fill-rule:evenodd;fill:red;fill-opacity:1;\" d=\"M 18.214844 0.632812 C 16.109375 1.800781 15.011719 4.074219 15.074219 7.132812 L 15.085938 7.652344 L 14.785156 7.496094 C 13.476562 6.824219 11.957031 6.671875 10.40625 7.066406 C 8.46875 7.550781 6.515625 9.15625 4.394531 11.992188 C 3.0625 13.777344 2.679688 14.636719 3.042969 15.027344 L 3.15625 15.152344 L 3.519531 15.152344 C 4.238281 15.152344 4.828125 14.886719 8.1875 13.039062 C 9.386719 12.378906 10.371094 11.839844 10.378906 11.839844 C 10.386719 11.839844 10.355469 11.929688 10.304688 12.035156 C 9.832031 13.09375 9.257812 14.820312 8.96875 16.078125 C 7.914062 20.652344 8.617188 24.53125 11.070312 27.660156 C 11.351562 28.015625 11.363281 27.914062 10.972656 28.382812 C 8.925781 30.84375 7.945312 33.28125 8.238281 35.1875 C 8.289062 35.527344 8.28125 35.523438 8.917969 35.523438 C 10.941406 35.523438 13.074219 34.207031 15.136719 31.6875 C 15.359375 31.417969 15.328125 31.425781 15.5625 31.574219 C 16.292969 32.042969 18.023438 32.964844 18.175781 32.964844 C 18.335938 32.964844 19.941406 32.210938 20.828125 31.71875 C 20.996094 31.625 21.136719 31.554688 21.136719 31.558594 C 21.203125 31.664062 21.898438 32.414062 22.222656 32.730469 C 23.835938 34.300781 25.5625 35.132812 27.582031 35.300781 C 27.90625 35.328125 27.9375 35.308594 28.007812 34.984375 C 28.382812 33.242188 27.625 30.925781 25.863281 28.425781 L 25.542969 27.96875 L 25.699219 27.785156 C 28.945312 23.960938 29.132812 18.699219 26.257812 11.96875 L 26.207031 11.84375 L 27.945312 12.703125 C 31.53125 14.476562 32.316406 14.800781 33.03125 14.800781 C 33.976562 14.800781 33.78125 13.9375 32.472656 12.292969 C 28.519531 7.355469 25.394531 5.925781 21.921875 7.472656 L 21.558594 7.636719 L 21.578125 7.542969 C 21.699219 6.992188 21.761719 5.742188 21.699219 5.164062 C 21.496094 3.296875 20.664062 1.964844 19.003906 0.855469 C 18.480469 0.503906 18.457031 0.5 18.214844 0.632812\"/>\n",
              "</g>\n",
              "      </svg>\n",
              "    "
            ],
            "text/plain": [
              "<IPython.core.display.HTML object>"
            ]
          },
          "metadata": {}
        },
        {
          "output_type": "error",
          "ename": "NameError",
          "evalue": "ignored",
          "traceback": [
            "\u001b[0;31m---------------------------------------------------------------------------\u001b[0m",
            "\u001b[0;31mNameError\u001b[0m                                 Traceback (most recent call last)",
            "\u001b[0;32m<ipython-input-8-1a508e2fcc16>\u001b[0m in \u001b[0;36m<module>\u001b[0;34m()\u001b[0m\n\u001b[1;32m      5\u001b[0m \u001b[0mjoana\u001b[0m\u001b[0;34m.\u001b[0m\u001b[0mcolor\u001b[0m\u001b[0;34m(\u001b[0m\u001b[0;34m'red'\u001b[0m\u001b[0;34m)\u001b[0m\u001b[0;34m\u001b[0m\u001b[0;34m\u001b[0m\u001b[0m\n\u001b[1;32m      6\u001b[0m \u001b[0;34m\u001b[0m\u001b[0m\n\u001b[0;32m----> 7\u001b[0;31m \u001b[0malex\u001b[0m \u001b[0;34m=\u001b[0m \u001b[0mColabTurtle\u001b[0m\u001b[0;34m.\u001b[0m\u001b[0mjoana\u001b[0m \u001b[0;31m# Cria uma tartaruga, atribui a joana\u001b[0m\u001b[0;34m\u001b[0m\u001b[0;34m\u001b[0m\u001b[0m\n\u001b[0m\u001b[1;32m      8\u001b[0m \u001b[0malex\u001b[0m\u001b[0;34m.\u001b[0m\u001b[0minitializeTurtle\u001b[0m\u001b[0;34m(\u001b[0m\u001b[0;34m)\u001b[0m\u001b[0;34m\u001b[0m\u001b[0;34m\u001b[0m\u001b[0m\n\u001b[1;32m      9\u001b[0m \u001b[0malex\u001b[0m\u001b[0;34m.\u001b[0m\u001b[0mcolor\u001b[0m\u001b[0;34m(\u001b[0m\u001b[0;34m'blue'\u001b[0m\u001b[0;34m)\u001b[0m\u001b[0;34m\u001b[0m\u001b[0;34m\u001b[0m\u001b[0m\n",
            "\u001b[0;31mNameError\u001b[0m: name 'ColabTurtle' is not defined"
          ]
        }
      ]
    },
    {
      "cell_type": "code",
      "metadata": {
        "colab": {
          "base_uri": "https://localhost:8080/"
        },
        "id": "RkcBeNi-QScj",
        "outputId": "389ebbb6-3d97-4913-b6d4-1b77a1a04cf4"
      },
      "source": [
        "p = Point()         # Instanciar um objeto do tipo Ponto\n",
        "q = Point()         # Fazer um segundo objeto do tipo Ponto\n",
        "\n",
        "print(p.x, p.y, q.x, q.y)  # Cada objeto do tipo ponto tem seu próprio x e y "
      ],
      "execution_count": 9,
      "outputs": [
        {
          "output_type": "stream",
          "name": "stdout",
          "text": [
            "0 0 0 0\n"
          ]
        }
      ]
    },
    {
      "cell_type": "markdown",
      "metadata": {
        "id": "u5HeLQPOzRlF"
      },
      "source": [
        "* As variáveis ***p*** e ***q*** são referências atribuídas a dois novos objetos do tipo Ponto. \n",
        "* Uma função como Turtle ou Ponto que cria uma **nova instância de objeto** é chamada de **construtor**, \n",
        "   * toda classe fornece automaticamente uma função de construtor que é nomeada da mesma forma que a classe. \n",
        "   * No nosso exemplo, a função contrutor é a Ponto()\n",
        "\n",
        "* Pode ser útil pensar em uma classe como uma fábrica para fazer objetos. \n",
        "* A classe em si não é uma instância de um ponto, mas contém o mecanismo para criar instâncias de pontos. \n",
        "* Toda vez que chamamos o construtor, pedimos à fábrica que nos faça um novo objeto. \n",
        "* À medida que o objeto sai da linha de produção, seu método de inicialização é executado para obter o objeto adequadamente configurado com suas configurações padrão de fábrica.\n",
        "\n",
        "* O processo combinado de \"fazer um novo objeto\" e \"obter suas configurações inicializadas com as configurações padrão de fábrica\" é chamado de **instanciação**.\n",
        "\n",
        "## Atributos\n",
        "\n",
        "Você pode atribuir valores a uma instância usando a notação de ponto:"
      ]
    },
    {
      "cell_type": "code",
      "metadata": {
        "id": "INTUazRJzRlF",
        "outputId": "14dfbeb1-78a3-41e5-898c-13d083e58c97",
        "colab": {
          "base_uri": "https://localhost:8080/"
        }
      },
      "source": [
        "p = Point()\n",
        "p.x = 3\n",
        "p.y = 4\n",
        "print(p.x, p.y)\n",
        "print(type(p))"
      ],
      "execution_count": 10,
      "outputs": [
        {
          "output_type": "stream",
          "name": "stdout",
          "text": [
            "3 4\n",
            "<class '__main__.Point'>\n"
          ]
        }
      ]
    },
    {
      "cell_type": "markdown",
      "metadata": {
        "id": "ZGKG9h-9zRlF"
      },
      "source": [
        "A variável p se refere a um objeto do tipo Ponto e contém dois atributos que se referem a números. \n",
        "Acessamos os valores dos atributos com a notação de ponto.\n",
        "\n",
        "## Melhorando nosso inicializador\n",
        "\n",
        "Podemos **tornar nossa classe Ponto mais geral, adicionando parâmetros** à função _ _init _ _: "
      ]
    },
    {
      "cell_type": "code",
      "metadata": {
        "id": "Sxo8TG2GzRlF"
      },
      "source": [
        "class Point:\n",
        "    \"\"\" A classe Ponto representa e manipula as coordenadas x,y . \"\"\"\n",
        "\n",
        "    def __init__(self, x=0, y=0):\n",
        "        \"\"\" Inicializa em x, y o novo ponto criado pela classe. \"\"\"\n",
        "        self.x = x\n",
        "        self.y = y"
      ],
      "execution_count": 11,
      "outputs": []
    },
    {
      "cell_type": "code",
      "metadata": {
        "id": "xW85asVNzRlF",
        "outputId": "2d977f8e-ea2b-41c8-98ef-04be6998ef59",
        "colab": {
          "base_uri": "https://localhost:8080/"
        }
      },
      "source": [
        "p = Point(4, 2)\n",
        "q = Point(6, 3)\n",
        "r = Point()       # r representa a origem (0, 0)\n",
        "print(p.x, q.y, r.x)"
      ],
      "execution_count": 13,
      "outputs": [
        {
          "output_type": "stream",
          "name": "stdout",
          "text": [
            "4 3 0\n"
          ]
        }
      ]
    },
    {
      "cell_type": "markdown",
      "metadata": {
        "id": "Y4-q2C_RzRlF"
      },
      "source": [
        "## Adicionando outros métodos à nossa classe\n",
        "\n",
        "* Criar uma classe como a Ponto traz uma quantidade excepcional de **“poder organizacional”** aos nossos programas e ao nosso pensamento. \n",
        "* Podemos **agrupar as operações** pertinentes a tipos de dados aos quais elas se aplicam, e cada instância da classe pode ter seu próprio estado.\n",
        "\n",
        "Um **método** se comporta como uma função, mas é invocado em uma instância específica: por exemplo, ***joana.right(90)*** \n",
        "\n",
        "* Os métodos são acessados usando notação de ponto.\n",
        "\n",
        "* Vamos adicionar outro método, ***distancia_da_origem***, para ver melhor como os métodos funcionam:"
      ]
    },
    {
      "cell_type": "code",
      "metadata": {
        "id": "KkRYk649zRlF"
      },
      "source": [
        "class Ponto:\n",
        "    \"\"\" Cria um novo Ponto, com coordenadas x, y \"\"\"\n",
        "\n",
        "    def __init__(self, x=0, y=0):\n",
        "        \"\"\" Inicializa em x, y o novo ponto criado pela classe \"\"\"\n",
        "        self.x = x\n",
        "        self.y = y\n",
        "\n",
        "    def distancia_da_origem(self):\n",
        "        \"\"\" Calcula minha distânica da origem \"\"\"\n",
        "        return ((self.x ** 2) + (self.y ** 2)) ** 0.5"
      ],
      "execution_count": 14,
      "outputs": []
    },
    {
      "cell_type": "markdown",
      "metadata": {
        "id": "ux3m7XHyzRlF"
      },
      "source": [
        "Vamos criar algumas instâncias de Ponto, verificar seus atributos e chamar nosso novo método nelas: (Precisamos executar nosso programa primeiro para disponibilizar nossa classe Ponto ao intérprete.)"
      ]
    },
    {
      "cell_type": "code",
      "metadata": {
        "id": "TiNifqX7zRlF",
        "outputId": "c46adafa-6340-41ea-cc38-d4c5809b1812",
        "colab": {
          "base_uri": "https://localhost:8080/"
        }
      },
      "source": [
        "p = Ponto(3, 4)                   # instanciando um objeto do tipo Ponto\n",
        "print(p.x)                        # acessando seus atributos\n",
        "print(p.y)\n",
        "print(p.distancia_da_origem())    # distância da origem\n",
        "q = Ponto(5, 12)\n",
        "print(q.x)\n",
        "print(q.y)\n",
        "print(q.distancia_da_origem())\n",
        "r = Ponto()\n",
        "print(r.x)\n",
        "print(r.y)\n",
        "print(r.distancia_da_origem())"
      ],
      "execution_count": 15,
      "outputs": [
        {
          "output_type": "stream",
          "name": "stdout",
          "text": [
            "3\n",
            "4\n",
            "5.0\n",
            "5\n",
            "12\n",
            "13.0\n",
            "0\n",
            "0\n",
            "0.0\n"
          ]
        }
      ]
    },
    {
      "cell_type": "markdown",
      "metadata": {
        "id": "nYKqMjnxzRlF"
      },
      "source": [
        "* Ao definir um método, **o primeiro parâmetro refere-se à instância sendo manipulada**. Como já foi dito, costuma-se nomear este parâmetro **self**.\n",
        "\n",
        "Observe que o chamador de ***distance_from_origin*** não fornece explicitamente um argumento para corresponder ao parâmetro ***self** - isso é feito para nós, pelo interpretador.\n",
        "\n",
        "## Instâncias como argumentos e parâmetros\n",
        "\n",
        "Podemos passar um objeto como um argumento da maneira usual.\n",
        "\n",
        "**Porém**, é importante saber que essa variável só contém uma **referência a um objeto**, portanto, passar um objeto para uma função cria um **alias**: o chamador e a função chamada agora têm uma referência, mas existe apenas um objeto!\n",
        "\n",
        "Aqui está uma função simples envolvendo nossos novos objetos Ponto:"
      ]
    },
    {
      "cell_type": "code",
      "metadata": {
        "id": "5Qn6ARPMzRlF"
      },
      "source": [
        "def print_point(pt):\n",
        "    print(\"({0}, {1})\".format(pt.x, pt.y))"
      ],
      "execution_count": 16,
      "outputs": []
    },
    {
      "cell_type": "code",
      "metadata": {
        "id": "NnHWWV9ozRlF",
        "outputId": "44c3d5ea-6b61-4b88-f497-b0a74a8c0ef7",
        "colab": {
          "base_uri": "https://localhost:8080/"
        }
      },
      "source": [
        "print_point(Ponto(2,2))"
      ],
      "execution_count": 17,
      "outputs": [
        {
          "output_type": "stream",
          "name": "stdout",
          "text": [
            "(2, 2)\n"
          ]
        }
      ]
    },
    {
      "cell_type": "markdown",
      "metadata": {
        "id": "khBNzGdCzRlF"
      },
      "source": [
        "## Instâncias como valores de retorno\n",
        "\n",
        "Funções e métodos podem retornar instâncias. \n",
        "\n",
        "Por exemplo, dado dois objetos Ponto, encontre seu ponto médio. Primeiro, vamos escrever isso como uma função normal:"
      ]
    },
    {
      "cell_type": "code",
      "metadata": {
        "id": "vTOP7iMFzRlF"
      },
      "source": [
        "def ponto_medio(p1, p2):\n",
        "    \"\"\" Retorna o ponto médio dos pontos p1 e p2 \"\"\"\n",
        "    mx = (p1.x + p2.x)/2\n",
        "    my = (p1.y + p2.y)/2\n",
        "    return Ponto(mx, my)"
      ],
      "execution_count": 18,
      "outputs": []
    },
    {
      "cell_type": "markdown",
      "metadata": {
        "id": "uivSJNByzRlG"
      },
      "source": [
        "A função cria e retorna um novo objeto Ponto:"
      ]
    },
    {
      "cell_type": "code",
      "metadata": {
        "id": "D8jN633pzRlG",
        "outputId": "a79df388-26d2-4124-9f25-78f08dcb94ed",
        "colab": {
          "base_uri": "https://localhost:8080/"
        }
      },
      "source": [
        "p = Ponto(3, 4)\n",
        "q = Ponto(5, 12)\n",
        "r = ponto_medio(p, q)\n",
        "print(r)\n",
        "print(r.x, r.y)"
      ],
      "execution_count": 19,
      "outputs": [
        {
          "output_type": "stream",
          "name": "stdout",
          "text": [
            "<__main__.Ponto object at 0x7f91697df7d0>\n",
            "4.0 8.0\n"
          ]
        }
      ]
    },
    {
      "cell_type": "markdown",
      "metadata": {
        "id": "jO1N6vWQzRlG"
      },
      "source": [
        "Agora vamos refazer isso como um **método** da classe Ponto. \n",
        "\n",
        "Suponha que tenhamos um objeto pontual e desejamos encontrar o ponto intermediário entre ele e algum outro ponto alvo:"
      ]
    },
    {
      "cell_type": "code",
      "metadata": {
        "id": "w4W6WaqzzRlG"
      },
      "source": [
        "class Ponto:\n",
        "    \"\"\" Cria um novo Ponto, com coordenadas x, y \"\"\"\n",
        "\n",
        "    def __init__(self, x=0, y=0):\n",
        "        \"\"\" Inicializa em x, y o novo ponto criado pela classe \"\"\"\n",
        "        self.x = x\n",
        "        self.y = y\n",
        "\n",
        "    def distancia_da_origem(self):\n",
        "        \"\"\" Calcula minha distânica da origem \"\"\"\n",
        "        return ((self.x ** 2) + (self.y ** 2)) ** 0.5\n",
        "    \n",
        "    def ponto_medio(self, alvo):\n",
        "        \"\"\" Retorna o ponto medio entre esse ponto e o alvo \"\"\"\n",
        "        mx = (self.x + alvo.x)/2\n",
        "        my = (self.y + alvo.y)/2\n",
        "        return Ponto(mx, my)"
      ],
      "execution_count": 20,
      "outputs": []
    },
    {
      "cell_type": "code",
      "metadata": {
        "id": "2-kvPmWwzRlG",
        "colab": {
          "base_uri": "https://localhost:8080/"
        },
        "outputId": "ab532cd1-644d-4121-c912-7919ebe8914e"
      },
      "source": [
        "p = Ponto(3, 4)\n",
        "q = Ponto(5, 12)\n",
        "r = p.ponto_medio(q)\n",
        "print(r)"
      ],
      "execution_count": 21,
      "outputs": [
        {
          "output_type": "stream",
          "name": "stdout",
          "text": [
            "<__main__.Ponto object at 0x7f916982ad10>\n"
          ]
        }
      ]
    },
    {
      "cell_type": "markdown",
      "metadata": {
        "id": "WY3hT8mTzRlG"
      },
      "source": [
        "Embora este exemplo atribua cada ponto a uma variável, isso não é necessário. \n",
        "\n",
        "Assim como as chamadas de função são **compostas**, **chamadas de método e instanciação de objetos também são compostas**, levando a essa alternativa que não usa variáveis:"
      ]
    },
    {
      "cell_type": "code",
      "metadata": {
        "id": "ChBowmpbzRlG",
        "colab": {
          "base_uri": "https://localhost:8080/"
        },
        "outputId": "30e827ba-09a4-41e4-fb90-264d7491318e"
      },
      "source": [
        "print(Ponto(3,4).ponto_medio(Ponto(5,12)))"
      ],
      "execution_count": 22,
      "outputs": [
        {
          "output_type": "stream",
          "name": "stdout",
          "text": [
            "<__main__.Ponto object at 0x7f916ffbaf10>\n"
          ]
        }
      ]
    },
    {
      "cell_type": "markdown",
      "metadata": {
        "id": "ipvpizsSzRlG"
      },
      "source": [
        "O método print acima, imprime na tela o endereço da referência ao objeto. Se conseguirmos um método de conversão de instância para string, poderemos imprimir na tela os atributos do objeto do tipo Ponto.\n",
        "\n",
        "## Convertendo uma instância em uma string\n",
        "\n",
        "É uma boa abordagem ter um método para que cada instância possa produzir uma representação de string de si mesmo. \n",
        "\n",
        "Vamos chamá-lo inicialmente de ***para_string***:"
      ]
    },
    {
      "cell_type": "code",
      "metadata": {
        "id": "xNC2NAvxzRlG"
      },
      "source": [
        "class Ponto:\n",
        "    \"\"\" Cria um novo Ponto, com coordenadas x, y \"\"\"\n",
        "\n",
        "    def __init__(self, x=0, y=0):\n",
        "        \"\"\" Inicializa em x, y o novo ponto criado pela classe \"\"\"\n",
        "        self.x = x\n",
        "        self.y = y\n",
        "\n",
        "    def distancia_da_origem(self):\n",
        "        \"\"\" Calcula minha distânica da origem \"\"\"\n",
        "        return ((self.x ** 2) + (self.y ** 2)) ** 0.5\n",
        "    \n",
        "    def ponto_medio(self, alvo):\n",
        "        \"\"\" Retorna o ponto medio entre esse ponto e o alvo \"\"\"\n",
        "        mx = (self.x + alvo.x)/2\n",
        "        my = (self.y + alvo.y)/2\n",
        "        return Ponto(mx, my)\n",
        "    \n",
        "    def para_string(self):\n",
        "        return \"({0}, {1})\".format(self.x, self.y)"
      ],
      "execution_count": 23,
      "outputs": []
    },
    {
      "cell_type": "code",
      "metadata": {
        "id": "bgHYQBu3zRlG",
        "outputId": "26a49bf2-be7e-467c-c9f0-c5704d5521e6",
        "colab": {
          "base_uri": "https://localhost:8080/"
        }
      },
      "source": [
        "p = Ponto(3, 4)\n",
        "print(p.para_string())"
      ],
      "execution_count": 24,
      "outputs": [
        {
          "output_type": "stream",
          "name": "stdout",
          "text": [
            "(3, 4)\n"
          ]
        }
      ]
    },
    {
      "cell_type": "markdown",
      "metadata": {
        "id": "xO9Iw25UzRlG"
      },
      "source": [
        "* Mas já não existe em Python um conversor de tipos ***str*** que transforma nosso objeto em uma string? **Sim!** \n",
        "* E a função ***print*** já não usa isso automaticamente ao imprimir na tela? **Sim!!!!** \n",
        "\n",
        "\n",
        "Mas esses mecanismos automáticos ainda não fazem exatamente o que queremos:"
      ]
    },
    {
      "cell_type": "code",
      "metadata": {
        "id": "va132JA6zRlG",
        "outputId": "33ceb428-3a74-4d35-cf98-27b13a6a05d0",
        "colab": {
          "base_uri": "https://localhost:8080/",
          "height": 54
        }
      },
      "source": [
        "print(p)\n",
        "str(p)"
      ],
      "execution_count": 25,
      "outputs": [
        {
          "output_type": "stream",
          "name": "stdout",
          "text": [
            "<__main__.Ponto object at 0x7f9169ecd950>\n"
          ]
        },
        {
          "output_type": "execute_result",
          "data": {
            "application/vnd.google.colaboratory.intrinsic+json": {
              "type": "string"
            },
            "text/plain": [
              "'<__main__.Ponto object at 0x7f9169ecd950>'"
            ]
          },
          "metadata": {},
          "execution_count": 25
        }
      ]
    },
    {
      "cell_type": "markdown",
      "metadata": {
        "id": "_wAb9pPbzRlG"
      },
      "source": [
        "O Python tem um excelente truque para resolver esse problema!\n",
        "\n",
        "Se substituirmos o nome do nosso método ***para_string*** por _ _ str _ _ , o interpretador de Python saberá automaticamente quando converter a instância Ponto para uma string. Considere isso uma **característica** do Python. :-)"
      ]
    },
    {
      "cell_type": "code",
      "metadata": {
        "id": "GXjkZPiUzRlG"
      },
      "source": [
        "class Ponto:\n",
        "    \"\"\" Cria um novo Ponto, com coordenadas x, y \"\"\"\n",
        "\n",
        "    def __init__(self, x=0, y=0):\n",
        "        \"\"\" Inicializa em x, y o novo ponto criado pela classe \"\"\"\n",
        "        self.x = x\n",
        "        self.y = y\n",
        "\n",
        "    def distancia_da_origem(self):\n",
        "        \"\"\" Calcula minha distânica da origem \"\"\"\n",
        "        return ((self.x ** 2) + (self.y ** 2)) ** 0.5\n",
        "    \n",
        "    def ponto_medio(self, alvo):\n",
        "        \"\"\" Retorna o ponto medio entre esse ponto e o alvo \"\"\"\n",
        "        mx = (self.x + alvo.x)/2\n",
        "        my = (self.y + alvo.y)/2\n",
        "        return Ponto(mx, my)\n",
        "    \n",
        "    def __str__(self):\n",
        "        return \"({0}, {1})\".format(self.x, self.y)"
      ],
      "execution_count": 29,
      "outputs": []
    },
    {
      "cell_type": "code",
      "metadata": {
        "id": "paeoJFaBzRlG",
        "outputId": "9113a703-e6d0-47ad-f19a-b8d490f37a76",
        "colab": {
          "base_uri": "https://localhost:8080/",
          "height": 54
        }
      },
      "source": [
        "print(Ponto(2,2))\n",
        "str(Ponto(2,2))"
      ],
      "execution_count": 27,
      "outputs": [
        {
          "output_type": "stream",
          "name": "stdout",
          "text": [
            "(2, 2)\n"
          ]
        },
        {
          "output_type": "execute_result",
          "data": {
            "application/vnd.google.colaboratory.intrinsic+json": {
              "type": "string"
            },
            "text/plain": [
              "'(2, 2)'"
            ]
          },
          "metadata": {},
          "execution_count": 27
        }
      ]
    },
    {
      "cell_type": "markdown",
      "metadata": {
        "id": "iWAcISRozRlG"
      },
      "source": [
        "Voltando à nossa função ***ponto_medio***:"
      ]
    },
    {
      "cell_type": "code",
      "metadata": {
        "id": "lcURdPFwzRlG",
        "outputId": "b33aaeb4-a5b7-497c-bfd8-eac87ce12ef9",
        "colab": {
          "base_uri": "https://localhost:8080/"
        }
      },
      "source": [
        "print(Ponto(3,4).ponto_medio(Ponto(5,12)))"
      ],
      "execution_count": 28,
      "outputs": [
        {
          "output_type": "stream",
          "name": "stdout",
          "text": [
            "(4.0, 8.0)\n"
          ]
        }
      ]
    },
    {
      "cell_type": "markdown",
      "metadata": {
        "id": "kYesxbGAzRlG"
      },
      "source": [
        "## Exercícios:\n",
        "\n",
        "1) Escreva uma função que calcula a distância entre dois pontos, usando a classe Ponto que fizemos nessa aula.\n",
        "\n",
        "2) Adicione um método reflexao_x à classe Ponto que retorna uma instância de Ponto, que é o reflexo do Ponto sobre o eixo x. Por exemplo, Point (3, 5) .reflexao_x () é (3, -5)\n",
        "\n",
        "3) Adicione um método ***inclinacao_da_origem*** à classe Ponto, que retorne a inclinação da linha que une a origem ao Ponto. Por exemplo,"
      ]
    },
    {
      "cell_type": "code",
      "metadata": {
        "id": "T7XQ-YxbRfD3"
      },
      "source": [
        "import math \n",
        "class Ponto:\n",
        "    \"\"\" Cria um novo Ponto, com coordenadas x, y \"\"\"\n",
        "\n",
        "    def __init__(self, x=0, y=0):\n",
        "        \"\"\" Inicializa em x, y o novo ponto criado pela classe \"\"\"\n",
        "        self.x = x\n",
        "        self.y = y\n",
        "\n",
        "    def distancia_da_origem(self):\n",
        "        \"\"\" Calcula minha distânica da origem \"\"\"\n",
        "        return ((self.x ** 2) + (self.y ** 2)) ** 0.5\n",
        "    \n",
        "    def ponto_medio(self, alvo):\n",
        "        \"\"\" Retorna o ponto medio entre esse ponto e o alvo \"\"\"\n",
        "        mx = (self.x + alvo.x)/2\n",
        "        my = (self.y + alvo.y)/2\n",
        "        return Ponto(mx, my)\n",
        "    \n",
        "    def __str__(self):\n",
        "        return \"({0}, {1})\".format(self.x, self.y)\n",
        "    \n",
        "    def distancia_entre_pontos(self,alvo):\n",
        "        distancia_x = math.fabs(self.x - alvo.x)\n",
        "        distancia_y = math.fabs(self.y - alvo.y)\n",
        "        distancia = (distancia_x**2 + distancia_y**2)**0.5\n",
        "        return distancia"
      ],
      "execution_count": 31,
      "outputs": []
    },
    {
      "cell_type": "code",
      "metadata": {
        "id": "CW8J0w5cS4kl",
        "outputId": "d094232f-e3a2-4647-f3ff-9280d236284d",
        "colab": {
          "base_uri": "https://localhost:8080/"
        }
      },
      "source": [
        "p= Ponto()\n",
        "q = Ponto(4,3)\n",
        "d = p.distancia_entre_pontos(q)\n",
        "print(d)"
      ],
      "execution_count": 32,
      "outputs": [
        {
          "output_type": "stream",
          "name": "stdout",
          "text": [
            "5.0\n"
          ]
        }
      ]
    },
    {
      "cell_type": "code",
      "metadata": {
        "id": "BRioDl07T03T"
      },
      "source": [
        "import math \n",
        "class Ponto:\n",
        "    \"\"\" Cria um novo Ponto, com coordenadas x, y \"\"\"\n",
        "\n",
        "    def __init__(self, x=0, y=0):\n",
        "        \"\"\" Inicializa em x, y o novo ponto criado pela classe \"\"\"\n",
        "        self.x = x\n",
        "        self.y = y\n",
        "\n",
        "    def distancia_da_origem(self):\n",
        "        \"\"\" Calcula minha distânica da origem \"\"\"\n",
        "        return ((self.x ** 2) + (self.y ** 2)) ** 0.5\n",
        "    \n",
        "    def ponto_medio(self, alvo):\n",
        "        \"\"\" Retorna o ponto medio entre esse ponto e o alvo \"\"\"\n",
        "        mx = (self.x + alvo.x)/2\n",
        "        my = (self.y + alvo.y)/2\n",
        "        return Ponto(mx, my)\n",
        "    \n",
        "    def __str__(self):\n",
        "        return \"({0}, {1})\".format(self.x, self.y)\n",
        "    \n",
        "    def distancia_entre_pontos(self,alvo):\n",
        "        distancia_x = math.fabs(self.x - alvo.x)\n",
        "        distancia_y = math.fabs(self.y - alvo.y)\n",
        "        distancia = (distancia_x**2 + distancia_y**2)**0.5\n",
        "        return distancia\n",
        "        \n",
        "    def reflexao_x(self):\n",
        "        return Ponto(self.x,-self.y)"
      ],
      "execution_count": 38,
      "outputs": []
    },
    {
      "cell_type": "code",
      "metadata": {
        "id": "ravDuDxOUhvq",
        "outputId": "8893814b-6655-4a7e-d805-f0c3b0e6ea1b",
        "colab": {
          "base_uri": "https://localhost:8080/"
        }
      },
      "source": [
        "q = Ponto(4,3)\n",
        "d = q.reflexao_x()\n",
        "print(d)"
      ],
      "execution_count": 40,
      "outputs": [
        {
          "output_type": "stream",
          "name": "stdout",
          "text": [
            "(4, -3)\n"
          ]
        }
      ]
    },
    {
      "cell_type": "code",
      "metadata": {
        "id": "LL_vBZZozRlG"
      },
      "source": [
        "from Ponto import *\n",
        "Ponto(4, 10).inclinacao_origem()\n",
        "2.5"
      ],
      "execution_count": null,
      "outputs": []
    },
    {
      "cell_type": "markdown",
      "metadata": {
        "id": "xmBIFq2VzRlG"
      },
      "source": [
        "O que pode dar errado com esse programa?\n",
        "\n",
        "4) A equação de uma linha reta é “y = ax + b”. Os coeficientes a e b descrevem completamente a reta. Escreva um método na classe Ponto para que, se uma instância Ponto receber outro Ponto, calcule a equação da linha reta que une os dois pontos. Deve retornar os dois coeficientes como uma tupla de dois valores. Por exemplo,"
      ]
    },
    {
      "cell_type": "code",
      "metadata": {
        "id": "63isaQWkzRlG",
        "outputId": "3619e2a0-e830-446e-db2f-f93e5a055861"
      },
      "source": [
        "from Ponto import *\n",
        "print(Ponto(4,11).parametros_reta(Ponto(6,15)))"
      ],
      "execution_count": null,
      "outputs": [
        {
          "output_type": "stream",
          "text": [
            "(2.0, 3.0)\n"
          ],
          "name": "stdout"
        }
      ]
    },
    {
      "cell_type": "markdown",
      "metadata": {
        "id": "bxUd3bSezRlH"
      },
      "source": [
        "O resultado acima nos diz que a equação da reta é y = 2x + 3. Quando esse método falha?"
      ]
    }
  ]
}