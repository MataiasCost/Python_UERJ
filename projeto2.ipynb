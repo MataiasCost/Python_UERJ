{
  "nbformat": 4,
  "nbformat_minor": 0,
  "metadata": {
    "colab": {
      "name": "projeto2.ipynb",
      "provenance": [],
      "collapsed_sections": [],
      "include_colab_link": true
    },
    "kernelspec": {
      "name": "python3",
      "display_name": "Python 3"
    },
    "language_info": {
      "name": "python"
    }
  },
  "cells": [
    {
      "cell_type": "markdown",
      "metadata": {
        "id": "view-in-github",
        "colab_type": "text"
      },
      "source": [
        "<a href=\"https://colab.research.google.com/github/MataiasCost/Python_UERJ/blob/main/projeto2.ipynb\" target=\"_parent\"><img src=\"https://colab.research.google.com/assets/colab-badge.svg\" alt=\"Open In Colab\"/></a>"
      ]
    },
    {
      "cell_type": "markdown",
      "metadata": {
        "id": "uQ_rcZSHL4jm"
      },
      "source": [
        "# **Criando a classe MyPerceptron**\n",
        "\n",
        "\n",
        "\n"
      ]
    },
    {
      "cell_type": "markdown",
      "metadata": {
        "id": "yhoBA0mPWzMm"
      },
      "source": [
        "\"No final da década de 1950, Rosenblatt na Universidade de Cornell, criou uma genuína rede de múltiplos neurônios do tipo discriminadores lineares e chamou esta rede de perceptron.\" [Fonte: Notas de aula do Prof. Luiz Marcos Garcia Gonçalves — UFRN.](https://www.dca.ufrn.br/~lmarcos/courses/ia/notes/perceptrons.pdf)\n",
        "\n",
        "\"A simplicidade da rede Perceptron está associada à sua condição de ser constituída de apenas uma camada neural, tendo-se também somente um neurônio artificial nesta camada única. O Perceptron pertence à arquitetura feedforward de camada única, pois o fluxo de informação em sua estrutura reside sempre no sentido da camada de entrada em direção à camada neural de saída, inexistindo-se qualquer tipo de realimentação de valores produzidos pelo seu único neurônio. Pode-se também combinar esse neurônio a outros para assim criar uma rede de multiplas camadas.\" [Fonte: Coluna \"Redes Neurais Artificiais\", por Anderson Vinicius, no portal Medium.](https://medium.com/@avinicius.adorno/redes-neurais-artificiais-418a34ea1a39)\n",
        "\n",
        "Um perceptron pode ser treinado, com base em uma base de dados que conhecemos a classificação, para retornar verdadeiro ou falso os dados de uma determinada amostra cuja classificação é desconhecida. \n",
        "\n",
        "Neste trabalho, desenvolvemos um perceptron na classe MyPerceptron. Em seguida, o utilizamos para fazer previsões acerca de flores Iris da espécie Setosa de uma amostra conhecida. Comparamos, então, os resultado obtidos com o MyPerceptron com aqueles obtidos utilizando o método scikit-learn. Repetimos o mesmo processo, agora para Iris das espécies Virginica e Versicolor. Por último, apresentamos outros possíveis exemplos de aplicação dentro do escopo do perceptron."
      ]
    },
    {
      "cell_type": "code",
      "metadata": {
        "id": "h2XXEUiDqLZ6"
      },
      "source": [
        "import numpy as np\n",
        "\n",
        "class MyPerceptron():\n",
        "  \n",
        "  def __init__(self, no_of_inputs, threshold=100, learning_rate=0.01):\n",
        "    self.n_inputs = no_of_inputs # no_of_inputs: número de features passadas como input ao perceptron\n",
        "    self.threshold = threshold # threshold: número de iterações de atualização do peso\n",
        "    self.lr = learning_rate # learning_rate: taxa com a qual os pesos são atualizados a cada iteração\n",
        "    self.weight = np.zeros(no_of_inputs+1) # weights: inicialização dos pesos, que terá o_of_inputs + 1 elementos por conta do bias que é o primeiro elemento.\n",
        "  \n",
        "  def predict(self, inputs):\n",
        "    ''' Método de implementação da função de ativação. '''\n",
        "    \n",
        "    array_input = np.append(1,inputs) # incluindo o input x_0 = 1, cujo peso é dado pelo bias, \"w_0 = b\"\n",
        "    result = np.dot(self.weight, array_input) # uma vez que os vetores têm a mesma dimensão, podemos tomar o produto escalar\n",
        "    return np.heaviside(result,0) # por fim, utilizamos a função degrau Heaviside como ativação do Perceptron\n",
        "\n",
        "  def train(self, training_inputs, labels):\n",
        "    ''' É fundamental treinar o Perceptron para obtermos o resultado desejado em análises futuras.\n",
        "    Para isso, utilizamos resultados conhecidos para ajustar os pesos um número de vezes igual ao 'threshold'. '''\n",
        "    \n",
        "    new_input = [] # criando uma nova lista vazia para inserir o input x_0=1 aos inputs já incluídos em 'training_inputs'\n",
        "    \n",
        "    for k in range(len(training_inputs)): # ajustamos a dimensão do input inserindo x_0 = 1, cujo peso é dado pelo bias, \"w_0 = b\"\n",
        "      new_input.append(np.concatenate([[1],training_inputs[k]]))\n",
        "    \n",
        "    for j in range(self.threshold):\n",
        "      for i in range(len(labels)):\n",
        "        erro = labels[i] - self.predict(training_inputs[i])\n",
        "        delta_weight = (self.lr)*(erro)*(new_input[i])\n",
        "        self.weight = np.add(self.weight, delta_weight)\n",
        "        #print(i,self.weight)\n",
        "  "
      ],
      "execution_count": null,
      "outputs": []
    },
    {
      "cell_type": "markdown",
      "metadata": {
        "id": "zygOtTf1VYsm"
      },
      "source": [
        "A função de ativação utilizada nesta classe perceptron é a função de Heaviside, também conhecida como função degrau. \n",
        "\n",
        "Para construir o método *train* da classe *MyPerceptron*, cria-se um novoarray, denominado *new_input*, cujos elementos também são arrays. Entretanto, o que o diferencia do *training_inputs*, é o fato de que o elemento zero de cada um dos arrays que o compõe é dado por $x_0=1$, o que corresponde ao input cujo peso é dado pelo bias, $w_0=b$. Portanto, cada elemento do array *new_input* tem a mesma dimensão do parâmetro *self.weights*, e podemos, então, realizar as operações de soma e produto escalar entre estas quantidades."
      ]
    },
    {
      "cell_type": "markdown",
      "metadata": {
        "id": "uF4hwImcL9OA"
      },
      "source": [
        "# **Comparação com o método *linear_model* do módulo *scikit-learn*:** "
      ]
    },
    {
      "cell_type": "markdown",
      "metadata": {
        "id": "gwqvs0qMIRXM"
      },
      "source": [
        "Primeiramente, iremos utilizar o scikit-learn para fazer uma predição se os valores correspondem a uma Iris da espécie Setosa."
      ]
    },
    {
      "cell_type": "code",
      "metadata": {
        "colab": {
          "base_uri": "https://localhost:8080/"
        },
        "id": "SlXLblUfnL1s",
        "outputId": "3333b201-27a0-4432-9ee0-0aa1e772a822"
      },
      "source": [
        "import numpy as np\n",
        "from sklearn.datasets import load_iris\n",
        "from sklearn.linear_model import Perceptron\n",
        "\n",
        "iris = load_iris() # returns a dictionary-like object\n",
        "# características (features) das flores Iris:\n",
        "print(iris.target_names)    # target = label\n",
        "print(iris.feature_names)\n",
        "#print(iris)\n",
        "\n",
        "# Pelo primeiro print acima, as features são: 0: sepal length, 1: sepal width, 2: petal length, 3: petal width\n",
        "# Vamos selecionar somente as features petal length e petal width:\n",
        "\n",
        "X = iris.data[:, (2,3)]  # nos retorna um array com 150 conjuntos de inputs\n",
        "y = (iris.target == 0).astype(int)  # label = iris setosa. Retorna uma lista com os labels da Iris-Setosa. 0: não, 1: sim\n",
        "print(\"iris setosa classification: \", y)\n",
        "\n",
        "perceptron_clf = Perceptron()      # dois inputs: comprimento e largura da pétala\n",
        "perceptron_clf.fit(X,y)            # Train\n",
        "\n",
        "#print(X)\n",
        "\n",
        "y_pred = perceptron_clf.predict([[1,0.5]])  # predict\n",
        "print(y_pred)"
      ],
      "execution_count": null,
      "outputs": [
        {
          "output_type": "stream",
          "name": "stdout",
          "text": [
            "['setosa' 'versicolor' 'virginica']\n",
            "['sepal length (cm)', 'sepal width (cm)', 'petal length (cm)', 'petal width (cm)']\n",
            "iris setosa classification:  [1 1 1 1 1 1 1 1 1 1 1 1 1 1 1 1 1 1 1 1 1 1 1 1 1 1 1 1 1 1 1 1 1 1 1 1 1\n",
            " 1 1 1 1 1 1 1 1 1 1 1 1 1 0 0 0 0 0 0 0 0 0 0 0 0 0 0 0 0 0 0 0 0 0 0 0 0\n",
            " 0 0 0 0 0 0 0 0 0 0 0 0 0 0 0 0 0 0 0 0 0 0 0 0 0 0 0 0 0 0 0 0 0 0 0 0 0\n",
            " 0 0 0 0 0 0 0 0 0 0 0 0 0 0 0 0 0 0 0 0 0 0 0 0 0 0 0 0 0 0 0 0 0 0 0 0 0\n",
            " 0 0]\n",
            "[1]\n"
          ]
        }
      ]
    },
    {
      "cell_type": "markdown",
      "metadata": {
        "id": "AswHnbp1IcAN"
      },
      "source": [
        "De acordo com este método, esta corresponde a uma Iris Setosa. O que o nosso Perceptron tem a dizer sobre isso?"
      ]
    },
    {
      "cell_type": "code",
      "metadata": {
        "colab": {
          "base_uri": "https://localhost:8080/"
        },
        "id": "qLknn7wPT4Fb",
        "outputId": "ef155612-4624-4980-990a-25025a97fe0a"
      },
      "source": [
        "perceptron = MyPerceptron(2)  # criando um perceptron da classe MeuPerceptron com dois inputs\n",
        "X = iris.data[:, (2,3)] # inputs\n",
        "y = (iris.target == 0).astype(int)  # label = iris setosa. Retorna uma lista com os labels da Iris-Setosa. 0: não, 1: sim\n",
        "\n",
        "\n",
        "treino = perceptron.train(X,y)\n",
        "pred = perceptron.predict([1, 0.5])\n",
        "print(pred)"
      ],
      "execution_count": null,
      "outputs": [
        {
          "output_type": "stream",
          "name": "stdout",
          "text": [
            "1.0\n"
          ]
        }
      ]
    },
    {
      "cell_type": "markdown",
      "metadata": {
        "id": "O3YTqwvDIlIo"
      },
      "source": [
        "Conclui-se, portanto, que a predição do Perceptron está de acordo com aquela feita utilizando o método scikit-learn."
      ]
    },
    {
      "cell_type": "markdown",
      "metadata": {
        "id": "YUdEAwF1W4o8"
      },
      "source": [
        "# **Separando a amostra em *treino* e *teste*:**"
      ]
    },
    {
      "cell_type": "markdown",
      "metadata": {
        "id": "fsV_7TgjW_o_"
      },
      "source": [
        "É interessante, ainda, separar a amostra das iris em duas: uma ser utilizada como **teste** e outra para **treinar** o perceptron. Neste ponto, é conveniente utilizar o método *train_test_slit* do módulo scikit-learn. Isso é feito da seguinte forma:"
      ]
    },
    {
      "cell_type": "code",
      "metadata": {
        "id": "_bxi1oOL8Ial"
      },
      "source": [
        "# Implementando o método 'train_test_slit'\n",
        "\n",
        "from sklearn.model_selection import train_test_split  # importando o módulo\n",
        "\n",
        "X_train, X_test, y_train, y_test = train_test_split(X, y, test_size = 0.5)  # separando a amostra explicitamente em 'teste' e 'treino'"
      ],
      "execution_count": null,
      "outputs": []
    },
    {
      "cell_type": "markdown",
      "metadata": {
        "id": "lxRuJYe2aMOm"
      },
      "source": [
        "Agora, utiliza-se o perceptron definido na classe *MyPerceptron* para classificar as amostra de teste, cujos inputs estão contidos em *X_test*, e, em seguida, comparar estes resultados com os labels, dispostos em *y_test*. Comparamos, ainda, com as predições dadas pelo método *scikit-learn*."
      ]
    },
    {
      "cell_type": "code",
      "metadata": {
        "id": "EPGvlORACmFa"
      },
      "source": [
        "import matplotlib.pyplot as plt\n",
        "from sklearn.model_selection import train_test_split  # importando o módulo\n",
        "import numpy as np\n",
        "from sklearn.datasets import load_iris\n",
        "from sklearn.linear_model import Perceptron\n",
        "\n",
        "\n",
        "def Diferentes_scatters(Tipo_Planta):\n",
        "  \n",
        "  # SINOPSE:\n",
        "  # Tipo_planta = 0 para setosa, 1 para versicolor e 2 para virginica\n",
        "  \n",
        "  # 1 - Pegamos a informação de qual tipo de Iris desejamos analisar\n",
        "\n",
        "  iris = load_iris()\n",
        "  X = iris.data[:, (2,3)] # inputs\n",
        "  y = (iris.target == Tipo_Planta).astype(int)  # label = iris setosa. Retorna uma lista com os labels da Iris-Setosa. 0: não, 1: sim'''\n",
        "  \n",
        "  X_train, X_test, y_train, y_test = train_test_split(X, y, test_size = 0.5)  # separando a amostra explicitamente em 'teste' e 'treino'\n",
        "\n",
        "  # 2 — Treino dos perceptrons utilizando a fatia das amostras definidas para este propósito\n",
        "\n",
        "  # 2.1 — Treinando o perceptron do módulo scikit-learn\n",
        "  \n",
        "  perceptron_clf = Perceptron()      # dois inputs: comprimento e largura da pétala\n",
        "  perceptron_clf.fit(X_train, y_train)  # train\n",
        "\n",
        "  # 2.2 — Treinando MyPerceptron\n",
        "\n",
        "  perceptron = MyPerceptron(2)  # criando um perceptron da classe MeuPerceptron com dois inputs\n",
        "  perceptron.train(X_train, y_train)  #train\n",
        "\n",
        "  # 3 — Testamos a precisão do MyPerceptron em relação ao scikit-learn\n",
        "\n",
        "  count = 0\n",
        "  for x in X_test:\n",
        "    if perceptron_clf.predict([x]) == perceptron.predict(x):\n",
        "      count += 1\n",
        "  print(f\"O MyPerceptron teve {count*100/len(y_test):.2f}% das predições iguais ao Perceptron do módulo scikit-learn\\n\")\n",
        "\n",
        "  # 4 — Separa-se as Iris da espécie \"[Tipo_Planta]\" das demais, denotadas como \"não-[Tipo-Planta]\"\n",
        "\n",
        "  planta_comp_nosso = []  # criando listas para alocar as predições do MyPerceptron\n",
        "  planta_largura_nosso = []\n",
        "  nao_planta_comp_nosso = []\n",
        "  nao_planta_largura_nosso = []\n",
        "\n",
        "  planta_comp_sklearn = []  # criando listas para alocar as predições do scikit-learn\n",
        "  planta_largura_sklearn = []\n",
        "  nao_planta_comp_sklearn = []\n",
        "  nao_planta_largura_sklearn = []\n",
        "\n",
        "  planta_comp_teste = []  # criando listas para alocar os dados da amostra\n",
        "  planta_largura_teste = []\n",
        "  nao_planta_comp_teste = []\n",
        "  nao_planta_largura_teste = []\n",
        "\n",
        "  # Selecionando as predições e os dados da amostra\n",
        "\n",
        "  for x in X_test:  # predições MyPerceptron\n",
        "    if perceptron.predict([x]) == 1:\n",
        "      planta_comp_nosso.append(x[0])\n",
        "      planta_largura_nosso.append(x[1])\n",
        "    else:\n",
        "      nao_planta_comp_nosso.append(x[0])\n",
        "      nao_planta_largura_nosso.append(x[1])\n",
        "\n",
        "  for x in X_test:  # predições scikit-learn\n",
        "    if perceptron_clf.predict([x]) == 1:\n",
        "      planta_comp_sklearn.append(x[0])\n",
        "      planta_largura_sklearn.append(x[1])\n",
        "    else:\n",
        "      nao_planta_comp_sklearn.append(x[0])\n",
        "      nao_planta_largura_sklearn.append(x[1])\n",
        "\n",
        "  for i in range(len(y_test)):  # validação dos dados da amostra\n",
        "    if y_test[i] == 1:\n",
        "      planta_comp_teste.append(X_test[i][0])\n",
        "      planta_largura_teste.append(X_test[i][1])\n",
        "    else:\n",
        "      nao_planta_comp_teste.append(X_test[i][0])\n",
        "      nao_planta_largura_teste.append(X_test[i][1])\n",
        "\n",
        "  # 5 — Por fim, dispomos estas informações em gráficos\n",
        "  \n",
        "  # Criamos um gráfico do comprimento em função da largura das pétalas das Iris\n",
        "  # Aqui, vamos comparar, utilizando três diferentes gráficos: Dados da amostra, predição do scikit-learn e predição do MyPerceptron\n",
        "\n",
        "  if Tipo_Planta == 0:  # Iris Setosa\n",
        "    label_1 = \"Setosa\"\n",
        "    label_2 = \"Não-Setosa\"\n",
        "\n",
        "  if Tipo_Planta == 1:  # Iris Versicolor\n",
        "    label_1 = \"Versicolor\"\n",
        "    label_2 = \"Não-Versicolor\"\n",
        "\n",
        "  if Tipo_Planta == 2:  # Iris Virginica\n",
        "    label_1 = \"Virginica\"\n",
        "    label_2 = \"Não-Virginica\"\n",
        "\n",
        "  f, axes = plt.subplots(nrows = 1, ncols = 3,figsize=(20,6)) #, sharex=True, sharey = True)\n",
        "\n",
        "  # 5.1 — Predições do MyPerceptron\n",
        "\n",
        "  axes[2].title.set_text('Predições do nosso Perceptron')\n",
        "  axes[2].scatter(planta_comp_nosso,planta_largura_nosso,c=\"green\",label = label_1)\n",
        "  axes[2].scatter(nao_planta_comp_nosso,nao_planta_largura_nosso,c=\"red\",label = label_2)\n",
        "  axes[2].set_xlabel('Comprimento da pétala (cm)')\n",
        "  axes[2].set_ylabel('Largura da pétala (cm)')\n",
        "  axes[2].legend()\n",
        "\n",
        "  # 5.2 — Predições do scikit-learn\n",
        "\n",
        "  axes[1].title.set_text('Predições do scikit-learn')\n",
        "  axes[1].scatter(planta_comp_sklearn,planta_largura_sklearn,c=\"green\",label = label_1)\n",
        "  axes[1].scatter(nao_planta_comp_sklearn,nao_planta_largura_sklearn,c=\"red\",label = label_2)\n",
        "  axes[1].set_xlabel('Comprimento da pétala (cm)')\n",
        "  axes[1].set_ylabel('Largura da pétala (cm)')\n",
        "  axes[1].legend()\n",
        "\n",
        "  # 5.3 — Dados da amostra\n",
        "\n",
        "  axes[0].title.set_text('Dados da Amostra')  \n",
        "  axes[0].scatter(planta_comp_teste,planta_largura_teste,c=\"green\",label = label_1)\n",
        "  axes[0].scatter(nao_planta_comp_teste,nao_planta_largura_teste,c=\"red\",label = label_2)\n",
        "  axes[0].set_xlabel('Comprimento da pétala (cm)')\n",
        "  axes[0].set_ylabel('Largura da pétala (cm)')  \n",
        "  axes[0].legend()\n",
        "\n",
        "\n",
        "  plt.show()  "
      ],
      "execution_count": null,
      "outputs": []
    },
    {
      "cell_type": "code",
      "metadata": {
        "colab": {
          "base_uri": "https://localhost:8080/",
          "height": 442
        },
        "id": "yxJPu73MCnNx",
        "outputId": "486992ae-41c0-477c-bdd7-cdcecf84dcd0"
      },
      "source": [
        " Diferentes_scatters(0) # Espécie Setosa"
      ],
      "execution_count": null,
      "outputs": [
        {
          "output_type": "stream",
          "name": "stdout",
          "text": [
            "O MyPerceptron teve 100.00% das predições iguais ao Perceptron do módulo scikit-learn\n",
            "\n"
          ]
        },
        {
          "output_type": "display_data",
          "data": {
            "image/png": "[encoded data removed]",
            "text/plain": [
              "<Figure size 1440x432 with 3 Axes>"
            ]
          },
          "metadata": {
            "needs_background": "light"
          }
        }
      ]
    },
    {
      "cell_type": "markdown",
      "metadata": {
        "id": "PpZAM6Lnx9X7"
      },
      "source": [
        "A partir do gráfico, podemos observar a distribuição de Iris Setosas e não-Setosas. Portanto, considerando como inputs apenas o comprimento e largura das pétalas, é possível concluir que todas as predições feitas pelo perceptron estão em perfeita concordância com os dados da amostra e com as predições do *scikit-learn*."
      ]
    },
    {
      "cell_type": "markdown",
      "metadata": {
        "id": "HDXou4jqIEq3"
      },
      "source": [
        "# **Quando este método falha?**"
      ]
    },
    {
      "cell_type": "markdown",
      "metadata": {
        "id": "nUlJvtppIzxX"
      },
      "source": [
        "Há duas limitações intrínsicas ao perceptron: seus valores de saída são binários — positivo (verdadeiro) ou negativo (falso); a capacidade de classificar apenas grupos de vetores linearmente separados.\n",
        "\n",
        "Neste trabalho, consideramos apenas dois inputs — largura e comprimento da pétala — para classificar se uma determinada Iris é da espécie Setosa ou não. Neste caso, o Perceptron cria uma reta que divide o espaço em duas regiões distintas: uma na qual ele é ativado (predição 'sim'), e outra na qual ele não é ativado (predição 'não'). O treinamento é responsável por ajustar os coeficientes linear e angular da equação da reta em questão, o que é feito um número de vezes determinado pelo threshold, até que os 'pesos' finais sejam determinados. Então, utiliza-se o Perceptron para efetivamente realizar predições acerca de uma determinada amostra.\n",
        "\n",
        "A partir dos gráficos dispostos acima, é possível inferir que as flores da espécie Iris Setosa da amostra de teste possuem características muito semelhantes entre si, e, em particular, bem distintas das duas demais espécies. Isto, portanto, explica a alta precisão para as Iris Setosa: a reta dada pelo Perceptron é perfeitamente capaz de separar os pontos correspondentes à Iris da espécie Setosa das demais. Desta forma, embora a concordância entre as previsões do Perceptron e os dados da amostra tenha sido excelente para o caso das Iris Setosa, podemos esperar divergências quando analisamos as demais espécies."
      ]
    },
    {
      "cell_type": "code",
      "metadata": {
        "id": "0WjHXRwNIyvD",
        "colab": {
          "base_uri": "https://localhost:8080/",
          "height": 866
        },
        "outputId": "df140c86-8512-46e2-ada8-0689fd05da45"
      },
      "source": [
        "Diferentes_scatters(1) # Espécie Versicolor\n",
        "Diferentes_scatters(2) # Espécie Virginica"
      ],
      "execution_count": null,
      "outputs": [
        {
          "output_type": "stream",
          "name": "stdout",
          "text": [
            "O MyPerceptron teve 29.33% das predições iguais ao Perceptron do módulo scikit-learn\n",
            "\n"
          ]
        },
        {
          "output_type": "display_data",
          "data": {
            "image/png": "[encoded data removed]",
            "text/plain": [
              "<Figure size 1440x432 with 3 Axes>"
            ]
          },
          "metadata": {
            "needs_background": "light"
          }
        },
        {
          "output_type": "stream",
          "name": "stdout",
          "text": [
            "O MyPerceptron teve 65.33% das predições iguais ao Perceptron do módulo scikit-learn\n",
            "\n"
          ]
        },
        {
          "output_type": "display_data",
          "data": {
            "image/png": "[encoded data removed]",
            "text/plain": [
              "<Figure size 1440x432 with 3 Axes>"
            ]
          },
          "metadata": {
            "needs_background": "light"
          }
        }
      ]
    },
    {
      "cell_type": "markdown",
      "metadata": {
        "id": "jvgbOQvfHDFW"
      },
      "source": [
        "É possível concluir, portanto, que a precisão do MyPerceptron diminui quando analisamos as amostras de flores das espécies Versicolor e Virginica. Como discutido anteriormente, atribuimos isso ao fato de que, para essas espécies, o comprimento e largura da pétala não são características tão discriminatórias quanto no caso da espécie Setosa."
      ]
    },
    {
      "cell_type": "markdown",
      "metadata": {
        "id": "QqVxVMXOKxB_"
      },
      "source": [
        "# **Outros exemplos de aplicação do Perceptron**"
      ]
    },
    {
      "cell_type": "markdown",
      "metadata": {
        "id": "tUupQQh6Kzqj"
      },
      "source": [
        "Nota-se a limitação do Perceptron em fazer predições precisas para amostras de dados onde se é conveniente aplicar uma função linear. Como exemplos de aplicação do perceptron, temos:\n",
        "\n",
        "* Verificar se o ser vivo é  quadrúpede ou bípede;\n",
        "* Identificar padrões geométricos;\n",
        "* Projeção de autorização de credito; \n",
        "* Avaliação de risco de falência; \n",
        "* Previsão econômica e financeira; \n",
        "* Avaliação de crédito.\n",
        "\n",
        "Cada um desses exemplos tem a missão de de dizer se algo é ou não é, se algo pode ou não ser feito. Seram sempre decisões binarias, por mas complexos que possam ser os dados analisados por eles.\n",
        "\n",
        "Uma alternativa visando melhorar a precisão das predições do perceptron é utilizar uma função de ativação não-linear, como, por exemplo, a função sigmoide. Além disso, poderíamos pensar também na criação de uma cadeia de neurônios, onde cada neurônio poderia realizar uma predição diferente para um mesmo input e o cruzamento dessas decisões levaria a uma decisão final que, novamente, seria binária."
      ]
    }
  ]
}