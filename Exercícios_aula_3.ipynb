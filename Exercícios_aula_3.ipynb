{
  "nbformat": 4,
  "nbformat_minor": 0,
  "metadata": {
    "kernelspec": {
      "display_name": "Python 3",
      "language": "python",
      "name": "python3"
    },
    "language_info": {
      "codemirror_mode": {
        "name": "ipython",
        "version": 3
      },
      "file_extension": ".py",
      "mimetype": "text/x-python",
      "name": "python",
      "nbconvert_exporter": "python",
      "pygments_lexer": "ipython3",
      "version": "3.6.4"
    },
    "colab": {
      "name": "aula3_funcoes.ipynb",
      "provenance": [],
      "include_colab_link": true
    }
  },
  "cells": [
    {
      "cell_type": "markdown",
      "metadata": {
        "id": "view-in-github",
        "colab_type": "text"
      },
      "source": [
        "<a href=\"https://colab.research.google.com/github/MataiasCost/Python_UERJ/blob/main/Exerc%C3%ADcios_aula_3.ipynb\" target=\"_parent\"><img src=\"https://colab.research.google.com/assets/colab-badge.svg\" alt=\"Open In Colab\"/></a>"
      ]
    },
    {
      "cell_type": "markdown",
      "metadata": {
        "id": "kAzo_U0J1QC4"
      },
      "source": [
        "## Exercícios:\n",
        "1. Crie uma funcão que tome um argumento e imprima o valor e o tipo dele.\n",
        "1. Crie uma função que calcule e imprima velocidade media de um objeto a partir de uma posição inicial, a final e o tempo transcorrido para um objeto em MRU. Também crie uma funcão que calcule e imprima a velocidade de um objeto a partir da aceleração constante e o tempo (MRUA) (p.ex. queda libre).\n",
        "1. Crie uma funcão para calcular o ángulo zenital do sol (da semana passada) tomando como argumento as medidas da altura e o comprimento da sombra.\n",
        "1. Crie uma função que faça a conversão de uma medida inicialmente em milhas para m, e outra para o inverso; uma de horas para segundos, e o inverso. Utilize estas funções para resolver novamente o primeiro exercício da semana passada (da corrida). Se uma pessoa demora 30 minutos em 4 milhas, qual velocidade media em km/h ? e o tempo medio por kilometro?\n",
        "1. Crie funções para calcular os outros exemplos das aulas anteriores: IMC, volume de uma esfera, distancia entre pontos de máximos de difração. Decida quais serão os argumentos e o valor retornado.\n"
      ]
    },
    {
      "cell_type": "markdown",
      "metadata": {
        "id": "zwkDu2k-o9jm"
      },
      "source": [
        "#Exercício 1:"
      ]
    },
    {
      "cell_type": "code",
      "metadata": {
        "id": "D7jM-M29o__o",
        "outputId": "ef0a5187-a21d-433a-b265-3d924fa33f35",
        "colab": {
          "base_uri": "https://localhost:8080/"
        }
      },
      "source": [
        "#x = input(\"entre com o sua variável \")\n",
        "def tipo_de_variavel(x):\n",
        "  print(\"o valor é \",x, \"e seu tipo é \", type(x))\n",
        "tipo_de_variavel(5)"
      ],
      "execution_count": 19,
      "outputs": [
        {
          "output_type": "stream",
          "text": [
            "o valor é  5 e seu tipo é  <class 'int'>\n"
          ],
          "name": "stdout"
        }
      ]
    },
    {
      "cell_type": "markdown",
      "metadata": {
        "id": "ClY_CMlQqZuK"
      },
      "source": [
        "#Execício 2:"
      ]
    },
    {
      "cell_type": "code",
      "metadata": {
        "id": "Q-oAr7nyprYK",
        "outputId": "5b6e6f1a-bc09-4529-9b98-83ef33e1aaa1",
        "colab": {
          "base_uri": "https://localhost:8080/"
        }
      },
      "source": [
        "def Velocidade_MRU(posição_inicial,posição_final, tempo_total):\n",
        "  print((posição_final-posição_inicial)/tempo_total)\n",
        "def velocidade_MRUA(aceleração, tempo_total):\n",
        "  print (aceleração*tempo_total)\n",
        "  \n",
        "Velocidade_MRU(2,6,10)\n",
        "velocidade_MRUA(10,30)"
      ],
      "execution_count": 28,
      "outputs": [
        {
          "output_type": "stream",
          "text": [
            "0.4\n",
            "300\n"
          ],
          "name": "stdout"
        }
      ]
    },
    {
      "cell_type": "markdown",
      "metadata": {
        "id": "7HKChMbytVrF"
      },
      "source": [
        "#Exercício 3:"
      ]
    },
    {
      "cell_type": "code",
      "metadata": {
        "id": "C57UaUSrsSYP",
        "outputId": "b62908b4-2569-4a61-8c6b-42c11a6a46c4",
        "colab": {
          "base_uri": "https://localhost:8080/"
        }
      },
      "source": [
        "import math\n",
        "def angulo_azimutal(altura,comprimento):\n",
        "  return math.atan(comprimento/altura)*57.2958\n",
        "print(\"Tendo 5 metros de altura, e 0,5 metros de comprimento de sombra, o angulo azimutal do sol, será \",angulo_azimutal(5,0.5),\" graus\")"
      ],
      "execution_count": 8,
      "outputs": [
        {
          "output_type": "stream",
          "text": [
            "Tendo 5 metros de altura, e 0,5 metros de comprimento de sombra, o angulo azimutal do sol, será  5.710595179403122  graus\n"
          ],
          "name": "stdout"
        }
      ]
    },
    {
      "cell_type": "markdown",
      "metadata": {
        "id": "v3INHmg6uRKl"
      },
      "source": [
        "#Exercício 4: "
      ]
    },
    {
      "cell_type": "code",
      "metadata": {
        "id": "H7PUMa7WuUJi",
        "outputId": "d11a4bd6-cd2d-403a-ea6b-b73927dd783e",
        "colab": {
          "base_uri": "https://localhost:8080/"
        }
      },
      "source": [
        "#Declarando as variáveis\n",
        "distancia_km = 10 #km\n",
        "tempo_minutos = 43 #minutos\n",
        "tempo_segundos = 30 #segundos\n",
        "tempo_horas = 0 #horas\n",
        "#Definição da função que vou utilizar\n",
        "def km_para_milhas(km):\n",
        "  milhas = km/1.61\n",
        "  return milhas\n",
        "def tempo_total_em_segundos(tempo_hor=0,tempo_min=0,tempo_seg=0):\n",
        "  tempo_total = tempo_hor*3600+tempo_min*60+tempo_seg\n",
        "  return tempo_total\n",
        "def tempo_total_em_horas(tempo_hor=0,tempo_min=0,tempo_seg=0):\n",
        "  tempo_total = tempo_hor+tempo_min/60+tempo_seg/3600\n",
        "  return tempo_total\n",
        "def tempo_medio_milhas(distancia,tempo_hor,tempo_min,tempo_seg):\n",
        "  return tempo_total_em_segundos(tempo_hor,tempo_min,tempo_seg)/km_para_milhas(distancia)\n",
        "def velocidade_media_km_hora(distancia_milhas,tempo_hor,tempo_min,tempo_seg):\n",
        "  return milhas_para_km(distancia_milhas)/tempo_total_em_horas(tempo_hor,tempo_min,tempo_seg)\n",
        "\n",
        "\n",
        "print(tempo_medio_milhas(distancia_km,tempo_horas,tempo_minutos,tempo_segundos),'segundos por milha')\n",
        "print(velocidade_media_milhas_hora(distancia_km,tempo_horas,tempo_minutos,tempo_segundos),'milhas/h')\n",
        "\n",
        "##########################################################   Até agora foi o que eu havia feito no exerício da aula 1    ##################################\n",
        "def velocidade_media_milhas_hora(distancia_km,tempo_hor,tempo_min,tempo_seg):\n",
        "  return km_para_milhas(distancia_km)/tempo_total_em_horas(tempo_hor,tempo_min,tempo_seg)\n",
        "def milhas_para_km(milhas):\n",
        "  return milhas*1.61 \n",
        "def tempo_medio_km(distancia,tempo_hor,tempo_min,tempo_seg):\n",
        "  return tempo_total_em_segundos(tempo_hor,tempo_min,tempo_seg)/milhas_para_km(distancia)\n",
        "\n",
        "print(\"Caso de 30 minutos em 4 milhas\")\n",
        "print(velocidade_media_km_hora(4,0,30,0), \"km/h \")\n",
        "print(tempo_medio_km(4,0,30,0), \"segundos por kilômetro\")\n"
      ],
      "execution_count": 24,
      "outputs": [
        {
          "output_type": "stream",
          "text": [
            "420.21000000000004 segundos por milha\n",
            "8.567144998929106 milhas/h\n",
            "Caso de 30 minutos em 4 milhas\n",
            "12.88 km/h \n",
            "279.5031055900621 segundos por kilômetro\n"
          ],
          "name": "stdout"
        }
      ]
    },
    {
      "cell_type": "markdown",
      "metadata": {
        "id": "7AXFaL_L1fiC"
      },
      "source": [
        "#Exercício 5:"
      ]
    },
    {
      "cell_type": "code",
      "metadata": {
        "id": "KKoLRjqyuNE-",
        "outputId": "9b92e2bf-9d54-4248-9a5b-6e890b259eb0",
        "colab": {
          "base_uri": "https://localhost:8080/"
        }
      },
      "source": [
        "import math\n",
        "#caso IMC\n",
        "def IMC(massa,altura):\n",
        "  return massa/altura**2\n",
        "\n",
        "#Caso da esfera\n",
        "def volume_esfera(raio):\n",
        "  return (4/3)*math.pi*(raio**3)\n",
        "\n",
        "#Caso da fenda\n",
        "def distância_entre_duas_fendas(comprimento,anteparo_distância,espaçamento_fenda):\n",
        "  return comprimento*anteparo_distância/espaçamento_fenda\n",
        "\n",
        "print(IMC(25,1))\n",
        "print(volume_esfera(7))  \n",
        "print(distância_entre_duas_fendas(632.8,1980,0.250) )"
      ],
      "execution_count": 33,
      "outputs": [
        {
          "output_type": "stream",
          "text": [
            "25.0\n",
            "1436.7550402417319\n",
            "5011776.0\n"
          ],
          "name": "stdout"
        }
      ]
    },
    {
      "cell_type": "code",
      "metadata": {
        "id": "h7LYD3xr27gu"
      },
      "source": [
        ""
      ],
      "execution_count": null,
      "outputs": []
    }
  ]
}