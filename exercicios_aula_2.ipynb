{
  "nbformat": 4,
  "nbformat_minor": 0,
  "metadata": {
    "kernelspec": {
      "display_name": "Python 3",
      "language": "python",
      "name": "python3"
    },
    "language_info": {
      "codemirror_mode": {
        "name": "ipython",
        "version": 3
      },
      "file_extension": ".py",
      "mimetype": "text/x-python",
      "name": "python",
      "nbconvert_exporter": "python",
      "pygments_lexer": "ipython3",
      "version": "3.7.0"
    },
    "colab": {
      "name": "exercicios_aula_2.ipynb",
      "provenance": [],
      "collapsed_sections": [
        "ovDMJX2TyAlZ",
        "VKVkWHALyAli",
        "fhVLq2sGyAll",
        "1D7bGyTuyAlr",
        "xLQU58LJyAl8",
        "9K0YVGLjyAmA",
        "LDYykqsryAmT",
        "5w0g3eItyAmZ",
        "t9JkW-fLyAmc",
        "LIEmLrEiyAmg",
        "Pg2nZDTayAmq",
        "ApWStk60yAm4",
        "Vz8GxGVqyAm5",
        "yvM-GLIOyAm6",
        "4S5d3rEkyAm9",
        "CmmYIGI7yAnP",
        "lY0k8SHNyAni"
      ],
      "include_colab_link": true
    }
  },
  "cells": [
    {
      "cell_type": "markdown",
      "metadata": {
        "id": "view-in-github",
        "colab_type": "text"
      },
      "source": [
        "<a href=\"https://colab.research.google.com/github/MataiasCost/Python_UERJ/blob/main/exercicios_aula_2.ipynb\" target=\"_parent\"><img src=\"https://colab.research.google.com/assets/colab-badge.svg\" alt=\"Open In Colab\"/></a>"
      ]
    },
    {
      "cell_type": "markdown",
      "metadata": {
        "id": "Vz8GxGVqyAm5"
      },
      "source": [
        "## Exercícios\n",
        "\n",
        "### Exercício 1:\n",
        "Considere as seguintes declarações de atribuições:\n",
        "   * largura = 17 \n",
        "   * altura = 12.0\n",
        "   * delimitador = \".\"\n",
        "   \n",
        "Para cada uma das expressões a seguir, escreva o valor das expressões e o tipo (do valor da expressão):\n",
        "1. largura/2\n",
        "1. largura/2.0\n",
        "1. altura/3\n",
        "1. 1 + 2 * 5\n",
        "1. delimitador*5\n",
        "\n",
        "Use o interpretador de python para verificar suas respostas.\n",
        "\n",
        "### Exercício 2:\n",
        "O volume de uma esfera de raio *r* é $\\frac{4}{3} \\pi r^{3}$ \n",
        "\n",
        "Qual é o volume de uma esfera de raio 5?\n",
        "\n",
        "### Exercício 3:\n",
        "Suponha que o preço de um livro seja 24.95 reais, porém as livrarias têm desconto de 40%. Os custos de envio são de 3.00 reais para o primeiro livro e 0.75 reais para os livros adicionais. Qual é o custo total da compra de 60 livros?  \n",
        "\n",
        "### Exercício 4:\n",
        "Um laser vermelho (com comprimento de onda $\\lambda = 632.8$ nm) incide em uma fenda dupla produzindo um padrão de interferência com franjas claras e escuras, em um anteparo situado a uma distância D = 1.98 m da fenda. Calcule a distância $\\Delta y$ entre dois máximos consecutivos de interferência. Considere o espaçamento entre as fendas, $d$, como sendo igual a 0.250 mm.\n",
        "*Dica: a distância entre dois máximos de interferência consecutivos pode ser aproximada por $\\Delta y = \\frac{\\lambda D}{d}$.*"
      ]
    },
    {
      "cell_type": "markdown",
      "metadata": {
        "id": "8FwiNVu9gWXF"
      },
      "source": [
        "#Exercício 1:"
      ]
    },
    {
      "cell_type": "code",
      "metadata": {
        "id": "c1GISOOmgbUI",
        "colab": {
          "base_uri": "https://localhost:8080/"
        },
        "outputId": "88f44596-35d7-4ad9-f87d-af9212ea6a6a"
      },
      "source": [
        "largura = 17\n",
        "altura = 12.0\n",
        "delimitador = \".\"\n",
        "\n",
        "print(\"largura/2: \",largura/2, \"e tem tipo: \",type(largura/2))"
      ],
      "execution_count": 1,
      "outputs": [
        {
          "output_type": "stream",
          "text": [
            "largura/2:  8.5 e tem tipo:  <class 'float'>\n"
          ],
          "name": "stdout"
        }
      ]
    },
    {
      "cell_type": "code",
      "metadata": {
        "id": "tplucWMQhGWq"
      },
      "source": [
        ""
      ],
      "execution_count": null,
      "outputs": []
    }
  ]
}