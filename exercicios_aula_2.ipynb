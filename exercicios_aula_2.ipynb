{
  "nbformat": 4,
  "nbformat_minor": 0,
  "metadata": {
    "kernelspec": {
      "display_name": "Python 3",
      "language": "python",
      "name": "python3"
    },
    "language_info": {
      "codemirror_mode": {
        "name": "ipython",
        "version": 3
      },
      "file_extension": ".py",
      "mimetype": "text/x-python",
      "name": "python",
      "nbconvert_exporter": "python",
      "pygments_lexer": "ipython3",
      "version": "3.7.0"
    },
    "colab": {
      "name": "exercicios_aula_2.ipynb",
      "provenance": [],
      "collapsed_sections": [
        "Vz8GxGVqyAm5"
      ],
      "include_colab_link": true
    }
  },
  "cells": [
    {
      "cell_type": "markdown",
      "metadata": {
        "id": "view-in-github",
        "colab_type": "text"
      },
      "source": [
        "<a href=\"https://colab.research.google.com/github/MataiasCost/Python_UERJ/blob/main/exercicios_aula_2.ipynb\" target=\"_parent\"><img src=\"https://colab.research.google.com/assets/colab-badge.svg\" alt=\"Open In Colab\"/></a>"
      ]
    },
    {
      "cell_type": "markdown",
      "metadata": {
        "id": "Vz8GxGVqyAm5"
      },
      "source": [
        "## Exercícios\n",
        "\n",
        "### Exercício 1:\n",
        "Considere as seguintes declarações de atribuições:\n",
        "   * largura = 17 \n",
        "   * altura = 12.0\n",
        "   * delimitador = \".\"\n",
        "   \n",
        "Para cada uma das expressões a seguir, escreva o valor das expressões e o tipo (do valor da expressão):\n",
        "1. largura/2\n",
        "1. largura/2.0\n",
        "1. altura/3\n",
        "1. 1 + 2 * 5\n",
        "1. delimitador*5\n",
        "\n",
        "Use o interpretador de python para verificar suas respostas.\n",
        "\n",
        "### Exercício 2:\n",
        "O volume de uma esfera de raio *r* é $\\frac{4}{3} \\pi r^{3}$ \n",
        "\n",
        "Qual é o volume de uma esfera de raio 5?\n",
        "\n",
        "### Exercício 3:\n",
        "Suponha que o preço de um livro seja 24.95 reais, porém as livrarias têm desconto de 40%. Os custos de envio são de 3.00 reais para o primeiro livro e 0.75 reais para os livros adicionais. Qual é o custo total da compra de 60 livros?  \n",
        "\n",
        "### Exercício 4:\n",
        "Um laser vermelho (com comprimento de onda $\\lambda = 632.8$ nm) incide em uma fenda dupla produzindo um padrão de interferência com franjas claras e escuras, em um anteparo situado a uma distância D = 1.98 m da fenda. Calcule a distância $\\Delta y$ entre dois máximos consecutivos de interferência. Considere o espaçamento entre as fendas, $d$, como sendo igual a 0.250 mm.\n",
        "*Dica: a distância entre dois máximos de interferência consecutivos pode ser aproximada por $\\Delta y = \\frac{\\lambda D}{d}$.*"
      ]
    },
    {
      "cell_type": "markdown",
      "metadata": {
        "id": "8FwiNVu9gWXF"
      },
      "source": [
        "#Exercício 1:"
      ]
    },
    {
      "cell_type": "code",
      "metadata": {
        "id": "c1GISOOmgbUI",
        "colab": {
          "base_uri": "https://localhost:8080/"
        },
        "outputId": "28f638a9-50df-4632-9c19-5d296e705e4d"
      },
      "source": [
        "largura = 17\n",
        "altura = 12.0\n",
        "delimitador = \".\"\n",
        "\n",
        "print(\"largura/2: \",largura/2, \"e tem tipo: \",type(largura/2))\n",
        "print(\"largura/2.0: \",largura/2.0, \"e tem tipo: \",type(largura/2.0))\n",
        "print(\"largura/3: \",largura/3, \"e tem tipo: \",type(largura/3))\n",
        "print(\"1+2*5: \",1+2*5, \"e tem tipo: \",type(1+2*5))\n",
        "print(\"delimitador*5: \",delimitador*5, \"e tem tipo: \",type(delimitador*5))\n",
        "\n",
        "\n",
        "\n"
      ],
      "execution_count": 3,
      "outputs": [
        {
          "output_type": "stream",
          "text": [
            "largura/2:  8.5 e tem tipo:  <class 'float'>\n",
            "largura/2.0:  8.5 e tem tipo:  <class 'float'>\n",
            "largura/3:  5.666666666666667 e tem tipo:  <class 'float'>\n",
            "1+2*5:  11 e tem tipo:  <class 'int'>\n",
            "delimitador*5:  ..... e tem tipo:  <class 'str'>\n"
          ],
          "name": "stdout"
        }
      ]
    },
    {
      "cell_type": "markdown",
      "metadata": {
        "id": "GVeP9HHmjXUa"
      },
      "source": [
        "#Exercício 2:"
      ]
    },
    {
      "cell_type": "code",
      "metadata": {
        "id": "tplucWMQhGWq",
        "colab": {
          "base_uri": "https://localhost:8080/"
        },
        "outputId": "a7d524c7-1702-4b9a-d38f-1ec0f462573e"
      },
      "source": [
        "import math\n",
        "def volume_esfera(raio):\n",
        "  return (4/3)*math.pi*(raio**3)\n",
        "print(\"Caso a esfera tenha 5 [insira a unidade aqui] ela terá: \",volume_esfera(5),\"[insira a unidade aqui]³\")"
      ],
      "execution_count": 8,
      "outputs": [
        {
          "output_type": "stream",
          "text": [
            "Caso a esfera tenha 5 [insira a unidade aqui] ela terá:  523.5987755982989 [insira a unidade aqui]³\n"
          ],
          "name": "stdout"
        }
      ]
    },
    {
      "cell_type": "markdown",
      "metadata": {
        "id": "vnHE0aILkglo"
      },
      "source": [
        "#Exercício 3:"
      ]
    },
    {
      "cell_type": "code",
      "metadata": {
        "colab": {
          "base_uri": "https://localhost:8080/"
        },
        "id": "XNeTPVlTj4Ff",
        "outputId": "e08e9c9c-79a5-4951-a1a8-e382790f1172"
      },
      "source": [
        "preço = 24.95\n",
        "quantidade = 60\n",
        "def preço_total(preço_livro, quantidade):\n",
        "  return  (preço_livro*quantidade*0.6 +3+(0.75*(quantidade-1)) )\n",
        "\n",
        "print(\"Comprando 60 livros na promoção de 14.97 cada, o preço fica \",preço_total(preço,quantidade), \"reais\")\n"
      ],
      "execution_count": 12,
      "outputs": [
        {
          "output_type": "stream",
          "text": [
            "Comprando 60 livros na promoção de 14.97 cada, o preço fica  945.4499999999999 reais\n"
          ],
          "name": "stdout"
        },
        {
          "output_type": "execute_result",
          "data": {
            "text/plain": [
              "898.1999999999999"
            ]
          },
          "metadata": {},
          "execution_count": 12
        }
      ]
    },
    {
      "cell_type": "markdown",
      "metadata": {
        "id": "0ZJu60VZmqVZ"
      },
      "source": [
        "#Exercício 4:"
      ]
    },
    {
      "cell_type": "code",
      "metadata": {
        "colab": {
          "base_uri": "https://localhost:8080/"
        },
        "id": "1b1MB1Hkl-0P",
        "outputId": "bc642129-4cf0-409a-9411-dc26bd40d7d3"
      },
      "source": [
        "comprimento = 632.8 #mm\n",
        "anteparo_distância = 1.98 #metros\n",
        "espaçamento_fenda = 0.250 #mm\n",
        "def distância_entre_duas_fendas(comprimento,anteparo_distância,espaçamento_fenda):\n",
        "  return comprimento*anteparo_distância/espaçamento_fenda\n",
        "\n",
        "print(\"O espaçamento entre fendas é: \",distância_entre_duas_fendas(comprimento,anteparo_distância*1000,espaçamento_fenda),\" mm\")"
      ],
      "execution_count": 14,
      "outputs": [
        {
          "output_type": "stream",
          "text": [
            "O espaçamento entre fendas é:  5011776.0  mm\n"
          ],
          "name": "stdout"
        }
      ]
    },
    {
      "cell_type": "code",
      "metadata": {
        "id": "T_jKxsrGnlsP"
      },
      "source": [
        ""
      ],
      "execution_count": null,
      "outputs": []
    }
  ]
}