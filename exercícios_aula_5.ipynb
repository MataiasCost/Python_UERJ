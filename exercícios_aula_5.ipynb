{
  "nbformat": 4,
  "nbformat_minor": 0,
  "metadata": {
    "kernelspec": {
      "display_name": "Python 3",
      "language": "python",
      "name": "python3"
    },
    "language_info": {
      "codemirror_mode": {
        "name": "ipython",
        "version": 3
      },
      "file_extension": ".py",
      "mimetype": "text/x-python",
      "name": "python",
      "nbconvert_exporter": "python",
      "pygments_lexer": "ipython3",
      "version": "3.6.4"
    },
    "colab": {
      "name": "aula5_tartarugas.ipynb",
      "provenance": [],
      "include_colab_link": true
    }
  },
  "cells": [
    {
      "cell_type": "markdown",
      "metadata": {
        "id": "view-in-github",
        "colab_type": "text"
      },
      "source": [
        "<a href=\"https://colab.research.google.com/github/MataiasCost/Python_UERJ/blob/main/exerc%C3%ADcios_aula_5.ipynb\" target=\"_parent\"><img src=\"https://colab.research.google.com/assets/colab-badge.svg\" alt=\"Open In Colab\"/></a>"
      ]
    },
    {
      "cell_type": "markdown",
      "metadata": {
        "id": "9qxCNQPhyhl2"
      },
      "source": [
        "### Exercícios:\n",
        "1. Modifique o programa da tartaruga (primeiro exemplo) para que, antes de criar a janela, ele solicite que o usuário insira a cor de fundo desejada. Ele deve armazenar as respostas do usuário em uma variável e modificar a cor da janela de acordo com os desejos do usuário. \n",
        "   * ***Dicas***: faça uso da função ***input***, built-in do python\n",
        "   * você pode encontrar uma lista de nomes de cores permitidos em http://www.tcl.tk/man/tcl8.4/TkCmd/colors.htm. Inclui alguns bem incomuns, como “peach puff” e “HotPink” ”***\n",
        "   \n",
        "1. Faça modificações similares para permitir que o usuário mude a cor da tartaruga durante a execução do programa.\n",
        "   1. Faça o mesmo para a largura da caneta da tartaruga. *Dica: seu diálogo com o usuário retornará uma string, mas o método **pensize** espera que seu argumento seja um **int**. Então, você precisará converter a **string** em um **int** antes de passá-la para **pensize**.*   \n",
        "   \n",
        "1. Investiguem os métodos e tipos do módulo turtle;\n",
        "\n",
        "1. Desenhe um quadrado, usando a forma de tartaruga, ao invés da flecha, para desenhar.\n",
        "   1. mude a velocidade com que a tartaruga faz o desenho\n",
        "   \n",
        "1. Sabendo que o ângulo interno da ponta de uma estrela de 5 pontas é de 36 graus, desenhe uma estrela em uma janela.\n",
        "![title](https://github.com/malbouis/Python_intro/blob/master/aulas_2019/pics/estrela.png?raw=1)\n",
        "\n",
        "1. Sabendo o ângulo interno da ponta de uma estrela, desenhe quatro estrelas em uma janela, com uma certa distância entre elas. Dica: use a função penup() e pendown() do módulo turtle"
      ]
    },
    {
      "cell_type": "markdown",
      "metadata": {
        "id": "F6dFq-U3Tz3Q"
      },
      "source": [
        "#Exercício 1"
      ]
    },
    {
      "cell_type": "code",
      "metadata": {
        "id": "pztdX1JmT2Ph"
      },
      "source": [
        "import turtle             # nos permite usar as tartarugas (turtles)\n",
        "x=input(\"Entre com a cor do fundo\")\n",
        "jn = turtle.Screen()      # Abre uma janela onde as tartarugas vão caminhar\n",
        "jn.bgcolor(x)\n",
        "joana = turtle.Turtle()    # Cria uma tartaruga, atribui a joana\n",
        "\n",
        "joana.forward(50)          # diz para joana andar para frente por 50 unidades\n",
        "joana.left(90)             # diz para joana virar de 90 graus\n",
        "joana.forward(30)          # Completa o segundo lado do retângulo\n",
        "\n",
        "jn.mainloop()     "
      ],
      "execution_count": null,
      "outputs": []
    },
    {
      "cell_type": "markdown",
      "metadata": {
        "id": "sdVtcoQWT38v"
      },
      "source": [
        "#Exercício 2\n",
        "\n",
        "\n",
        "\n"
      ]
    },
    {
      "cell_type": "code",
      "metadata": {
        "id": "0VKqdiYCU0QN"
      },
      "source": [
        "import turtle             # nos permite usar as tartarugas (turtles)\n",
        "x=input(\"Entre com a cor do fundo:\")\n",
        "y=input(\"Entre com a cor da tartaruga:\")\n",
        "z_str=input(\"entre com largura da caneta que a tartaruga usa:\")\n",
        "jn = turtle.Screen()      # Abre uma janela onde as tartarugas vão caminhar\n",
        "jn.bgcolor(x)\n",
        "joana = turtle.Turtle()    # Cria uma tartaruga, atribui a joana\n",
        "joana.color(y)\n",
        "z_int = int(z_str)\n",
        "joana.pensize(z_int)\n",
        "joana.forward(50)          # diz para joana andar para frente por 50 unidades\n",
        "joana.left(90)             # diz para joana virar de 90 graus\n",
        "joana.forward(30)          # Completa o segundo lado do retângulo\n",
        "\n",
        "jn.mainloop()    "
      ],
      "execution_count": null,
      "outputs": []
    },
    {
      "cell_type": "markdown",
      "metadata": {
        "id": "TVvAPGypXj0J"
      },
      "source": [
        "#Exercício 3"
      ]
    },
    {
      "cell_type": "code",
      "metadata": {
        "id": "gQtzsp5ZXoF9"
      },
      "source": [
        "?????????????????????????"
      ],
      "execution_count": null,
      "outputs": []
    },
    {
      "cell_type": "markdown",
      "metadata": {
        "id": "YH-9nUtIz-64"
      },
      "source": [
        "#Exercício 4"
      ]
    },
    {
      "cell_type": "code",
      "metadata": {
        "id": "0dCRSJFb0Axv"
      },
      "source": [
        "import turtle             # nos permite usar as tartarugas (turtles)\n",
        "jn = turtle.Screen()      # Abre uma janela onde as tartarugas vão caminhar\n",
        "joana = turtle.Turtle()    # Cria uma tartaruga, atribui a joana\n",
        "joana.shape(\"turtle\")\n",
        "joana.speed(1)\n",
        "for i in range(4):\n",
        "  joana.forward(50)          # diz para joana andar para frente por 50 unidades\n",
        "  joana.left(90)             # diz para joana virar de 90 graus\n",
        "\n",
        "jn.mainloop()    "
      ],
      "execution_count": null,
      "outputs": []
    },
    {
      "cell_type": "markdown",
      "metadata": {
        "id": "3euayE80YEYu"
      },
      "source": [
        "#Exercício 5"
      ]
    },
    {
      "cell_type": "code",
      "metadata": {
        "id": "9XgvIYMMYGul"
      },
      "source": [
        "import turtle\n",
        "\n",
        "jn = turtle.Screen()\n",
        "joana = turtle.Turtle()\n",
        "\n",
        "for i in range(5):\n",
        "    joana.forward(100)\n",
        "    joana.right(180-36)"
      ],
      "execution_count": null,
      "outputs": []
    },
    {
      "cell_type": "markdown",
      "metadata": {
        "id": "Qvh8RbIaiqsb"
      },
      "source": [
        "#Exercício 6"
      ]
    },
    {
      "cell_type": "code",
      "metadata": {
        "id": "Wvj3bll6isf9"
      },
      "source": [
        "import turtle\n",
        "\n",
        "jn = turtle.Screen()\n",
        "joana = turtle.Turtle()\n",
        "for i in range (4):\n",
        "  for j in range(5):\n",
        "    joana.forward(20)\n",
        "    joana.right(180-36)\n",
        "  joana.up()\n",
        "  joana.forward(20)\n",
        "  joana.pd()"
      ],
      "execution_count": null,
      "outputs": []
    },
    {
      "cell_type": "markdown",
      "metadata": {
        "id": "b2s6FcByyhl-"
      },
      "source": [
        "### Exercícios em preparação para os próximos capítulos\n",
        "\n",
        "1. Escreva uma função chamada `square`, que toma um parâmetro `t`, que é uma `Turtle`. Essa função deve usar o `turtle` para desenhar um quadrado. Escreva uma chamada de função que passe `joana` como argumento para `square` e rode o programa novamente. \n",
        "\n",
        "1. Adicione um outro parâmetro, chamado `length`, à função `square`. Modifique o corpo da função de tal forma que o comprimento dos lados do quadrado seja `length` e então modifique a chamada da função para que seja passado o segundo argumento. Rode o programa novamente. Teste o seu programa com diversos valores para `length`.\n",
        "\n",
        "1. Faça uma cópia da função `square` e mude o nome para `polygon`. Adicione um outro parâmetro chamado `n` e modifique o corpo da função para que ela desenhe um polígono regular de `n` lados. Dica: Os ângulos externos de um polígono regular de `n` lados são de `360/n` graus.  \n",
        "\n",
        "1. Escreva uma função chamada `circle` que toma como argumento uma `Turtle`, `t`, e um raio, `r`, e desenha um círculo aproximado ao chamar a função `polygon` com `length` e número `n` de lados apropriados. Teste sua função com um intervalo de valores de `r`. Dica: Determine a circunferência do círculo e se certifique que `comprimento * n = circunferência`.\n",
        "\n",
        "1. Faça uma versão mais geral da função `circle`, chamada `arc`, que toma um parâmetro adicional, `angle`, que determina qual a fração do circulo a ser desenhada. `angle` está em unidades de graus, logo quando `angle=360`, a função `arc` deve desenhar um cículo completo.\n"
      ]
    },
    {
      "cell_type": "markdown",
      "metadata": {
        "id": "jR2x5YBriuM_"
      },
      "source": [
        "#Exercício 1\n"
      ]
    },
    {
      "cell_type": "code",
      "metadata": {
        "id": "e0Bnd1nn0GZt"
      },
      "source": [
        "import turtle             # nos permite usar as tartarugas (turtles)\n",
        "\n",
        "def square (t):\n",
        "  canvas = turtle.Screen()\n",
        "  t.shape(\"turtle\")\n",
        "  for i in range(4):\n",
        "    t.forward(100)\n",
        "    t.left(90)\n",
        "  #jn.mainloop()\n",
        "\n",
        "joana = turtle.Turtle()\n",
        "square(joana)"
      ],
      "execution_count": null,
      "outputs": []
    },
    {
      "cell_type": "markdown",
      "metadata": {
        "id": "3bLNfdXr2HcO"
      },
      "source": [
        "#Exercício 2\n",
        "\n"
      ]
    },
    {
      "cell_type": "code",
      "metadata": {
        "id": "pTQfk8DY2lU5"
      },
      "source": [
        "import turtle             # nos permite usar as tartarugas (turtles)\n",
        "\n",
        "def square (t,length):\n",
        "  canvas = turtle.Screen()\n",
        "  t.shape(\"turtle\")\n",
        "  for i in range(4):\n",
        "    t.forward(length)\n",
        "    t.left(90)\n",
        "  #jn.mainloop()\n",
        "\n",
        "joana = turtle.Turtle()\n",
        "square(joana,50)\n",
        "square(joana,100)\n",
        "square(joana,150)\n"
      ],
      "execution_count": null,
      "outputs": []
    },
    {
      "cell_type": "markdown",
      "metadata": {
        "id": "jr_ITYlX3JWl"
      },
      "source": [
        "#Exercício 3"
      ]
    },
    {
      "cell_type": "code",
      "metadata": {
        "id": "h7RkEEGP5QkN"
      },
      "source": [
        "import turtle             # nos permite usar as tartarugas (turtles)\n",
        "\n",
        "def polygon (t,length,n):\n",
        "  canvas = turtle.Screen()\n",
        "  t.shape(\"turtle\")\n",
        "  for i in range(n):\n",
        "    t.forward(length)\n",
        "    t.left(360/n)\n",
        "  #jn.mainloop()\n",
        "\n",
        "joana = turtle.Turtle()\n",
        "polygon(joana,50,5)\n",
        "polygon(joana,50,6)\n",
        "polygon(joana,50,7)"
      ],
      "execution_count": null,
      "outputs": []
    },
    {
      "cell_type": "markdown",
      "metadata": {
        "id": "jFbnuGv_5SnW"
      },
      "source": [
        "#Exercícios 4"
      ]
    },
    {
      "cell_type": "code",
      "metadata": {
        "id": "7DNBoZIo5Ufh"
      },
      "source": [
        "import turtle  \n",
        "import math\n",
        "canvas = turtle.Screen()\n",
        "\n",
        "def circle(t,r):\n",
        "  #t.shape(\"turtle\")\n",
        "  t.circle(r)\n",
        "  #jn.mainloop()\n",
        "\n",
        "\n",
        "def polygon (t,length,n):\n",
        "  t.shape(\"turtle\")\n",
        "  for i in range(n):\n",
        "    t.forward(length)\n",
        "    t.left(360/n)\n",
        "  r =(length*n)/(2*math.pi)\n",
        "  t.forward(length/2)\n",
        "  circle(t,r)\n",
        "\n",
        "joana = turtle.Turtle()\n",
        "#circle(joana,50)\n",
        "polygon(joana,50,5)\n",
        "#polygon(joana,50,7)"
      ],
      "execution_count": null,
      "outputs": []
    },
    {
      "cell_type": "markdown",
      "metadata": {
        "id": "Sd-_BIv-9U2F"
      },
      "source": [
        "#Exercício 5"
      ]
    },
    {
      "cell_type": "code",
      "metadata": {
        "id": "qSk5iIOy9UbM"
      },
      "source": [
        "import turtle  \n",
        "canvas = turtle.Screen()\n",
        "\n",
        "def arc(t,r,angle):\n",
        "  t.shape(\"turtle\")\n",
        "  t.circle(r,angle)\n",
        "\n",
        "joana = turtle.Turtle()\n",
        "arc(joana, 50, 180)"
      ],
      "execution_count": null,
      "outputs": []
    },
    {
      "cell_type": "code",
      "metadata": {
        "id": "3qn3YRPT9YQZ"
      },
      "source": [
        ""
      ],
      "execution_count": null,
      "outputs": []
    }
  ]
}