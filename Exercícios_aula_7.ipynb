{
  "nbformat": 4,
  "nbformat_minor": 0,
  "metadata": {
    "kernelspec": {
      "display_name": "Python 3",
      "language": "python",
      "name": "python3"
    },
    "language_info": {
      "codemirror_mode": {
        "name": "ipython",
        "version": 3
      },
      "file_extension": ".py",
      "mimetype": "text/x-python",
      "name": "python",
      "nbconvert_exporter": "python",
      "pygments_lexer": "ipython3",
      "version": "3.6.4"
    },
    "colab": {
      "name": "aula7-iteracao.ipynb",
      "provenance": [],
      "collapsed_sections": [],
      "include_colab_link": true
    }
  },
  "cells": [
    {
      "cell_type": "markdown",
      "metadata": {
        "id": "view-in-github",
        "colab_type": "text"
      },
      "source": [
        "<a href=\"https://colab.research.google.com/github/MataiasCost/Python_UERJ/blob/main/Exerc%C3%ADcios_aula_7.ipynb\" target=\"_parent\"><img src=\"https://colab.research.google.com/assets/colab-badge.svg\" alt=\"Open In Colab\"/></a>"
      ]
    },
    {
      "cell_type": "markdown",
      "metadata": {
        "id": "_L86htJ301CQ"
      },
      "source": [
        "## Exercícios Parte 1\n",
        "\n",
        "1) A **conjectura de Collatz**, diz que \"Todos os inteiros positivos irão eventualmente convergir para 1 usando as regras do Collatz\". Faça um programa que verifique a conjectura de Collatz para alguns valores. As regras de Collatz são: Dado um número ***n***: \n",
        "   * se ***n*** for par, divida-o por ***2***;\n",
        "   * Se ***n*** for ímpar, atualize-o para 3*n + 1\n",
        "  \n",
        "  \n",
        "2) Modifique a função counter para contar o número de vezes que os dígitos 0 e 5 aparecem em um dado número n. Por exemplo, n = 10568, tem 2 dígitos 0 ou 5. \n",
        "\n",
        "3) Encapsule e generalize a seguinte declaração:"
      ]
    },
    {
      "cell_type": "markdown",
      "metadata": {
        "id": "CjXMUDhctUhq"
      },
      "source": [
        "#Exercício 1"
      ]
    },
    {
      "cell_type": "code",
      "metadata": {
        "id": "kSPP3sgFsLla",
        "colab": {
          "base_uri": "https://localhost:8080/"
        },
        "outputId": "e76832a9-dcdc-4ba6-ba1e-ce7362bd9357"
      },
      "source": [
        "def collatz(n):\n",
        "  n=int(input(\"Entre com os valor: \"))\n",
        "  while n!=1:\n",
        "    if n%2==0:\n",
        "      n=n/2\n",
        "    else:\n",
        "      n=3*n+1\n",
        "  print(n)\n",
        "\n",
        "collatz(n)"
      ],
      "execution_count": null,
      "outputs": [
        {
          "output_type": "stream",
          "name": "stdout",
          "text": [
            "Entre com os valor: 35777787\n",
            "1.0\n"
          ]
        }
      ]
    },
    {
      "cell_type": "markdown",
      "metadata": {
        "id": "5jxhDGextW5H"
      },
      "source": [
        "#Exercício 2"
      ]
    },
    {
      "cell_type": "code",
      "metadata": {
        "id": "bkVAvarGtaA2",
        "colab": {
          "base_uri": "https://localhost:8080/"
        },
        "outputId": "b275c231-761e-4c6c-cdc3-7c0f6dd403be"
      },
      "source": [
        "def counter(n):\n",
        "    string_valor = str(n)\n",
        "    contador_5 = string_valor.count('5')\n",
        "    contador_0 = string_valor.count('0')\n",
        "    count = contador_5 + contador_0\n",
        "    return count\n",
        "counter(56787)"
      ],
      "execution_count": null,
      "outputs": [
        {
          "output_type": "execute_result",
          "data": {
            "text/plain": [
              "1"
            ]
          },
          "metadata": {},
          "execution_count": 31
        }
      ]
    },
    {
      "cell_type": "markdown",
      "metadata": {
        "id": "IV1R8JYRYHLX"
      },
      "source": [
        "#Exercício 3"
      ]
    },
    {
      "cell_type": "code",
      "metadata": {
        "id": "5surCllG01CR",
        "colab": {
          "base_uri": "https://localhost:8080/"
        },
        "outputId": "fa4f437b-1c45-488d-ad34-5a24db7ebacb"
      },
      "source": [
        "class Impares:\n",
        "  def __init__(self,valores):\n",
        "    self.valores = valores\n",
        "\n",
        "  def Confirma_ValoresArbitrarios_SaoImpares(self):\n",
        "    for i in self.valores:\n",
        "      if i % 2 == 1:  \n",
        "        break\n",
        "      print(i)\n",
        "    print(\"done\")\n",
        "\n",
        "\n",
        "valores = Impares([10,21,30])\n",
        "valores.Confirma_ValoresArbitrarios_SaoImpares()"
      ],
      "execution_count": null,
      "outputs": [
        {
          "output_type": "stream",
          "name": "stdout",
          "text": [
            "10\n",
            "done\n"
          ]
        }
      ]
    },
    {
      "cell_type": "markdown",
      "metadata": {
        "id": "DlANgSf501CV"
      },
      "source": [
        "4) O método de Newton para raiz quadrada. Suponha que você queira calcular a raiz quadrada de ***n***. Se você começar com quase qualquer aproximação, poderá calcular uma aproximação melhor (mais próxima da resposta real) com a seguinte fórmula: melhor = (approx + n/approx)/2\n",
        "\n",
        "\n",
        "Usando um loop e repetindo esta fórmula até que a melhor aproximação se aproxime o suficiente da anterior (podemos considerar uma diferença de 0,001), podemos escrever uma função para calcular a raiz quadrada.\n",
        "\n",
        "\n",
        "Esse é um exemplo de repetição **indefinida**. Com qual tipo de loop você deve escrever o seu programa?"
      ]
    },
    {
      "cell_type": "code",
      "metadata": {
        "colab": {
          "base_uri": "https://localhost:8080/"
        },
        "id": "KcjAzk-kf7r5",
        "outputId": "6433b11c-0d3a-4ceb-ba64-147cb338fae6"
      },
      "source": [
        "import math\n",
        "class Newton:\n",
        "  def __init__(self,valor,approx):\n",
        "    self.valor = valor\n",
        "    self.approx = approx\n",
        "\n",
        "  def Calcula_UsandoValorEAproximacao_RaizAproximadaPeloMetodoDeNewton(self):\n",
        "    primeira_aproximacao=(self.approx+self.valor/self.approx)/2\n",
        "    segunda_aproximacao=(primeira_aproximacao+self.valor/primeira_aproximacao)/2\n",
        "    while abs(primeira_aproximacao-segunda_aproximacao) > 0.001:\n",
        "      primeira_aproximacao=segunda_aproximacao\n",
        "      segunda_aproximacao=(primeira_aproximacao+self.valor/primeira_aproximacao)/2\n",
        "    print(\"O valor escolhido foi \",self.valor,\" o valor aproximado foi \",self.approx,\" aplicando o método de Newton, achamos raiz de \",self.valor,\" igual a \",primeira_aproximacao)\n",
        "\n",
        "valores = Newton(121,10)\n",
        "valores.Calcula_UsandoValorEAproximacao_RaizAproximadaPeloMetodoDeNewton()\n",
        "\n",
        "\n",
        "    "
      ],
      "execution_count": null,
      "outputs": [
        {
          "output_type": "stream",
          "name": "stdout",
          "text": [
            "O valor escolhido foi  121  o valor aproximado foi  10  aplicando o método de Newton, achamos raiz de  121  igual a  11.000113122171946\n"
          ]
        }
      ]
    },
    {
      "cell_type": "markdown",
      "metadata": {
        "id": "ukcGc6MUtXl4"
      },
      "source": [
        "## Exercícios Parte 2\n",
        "https://penseallen.github.io/PensePython2e/05-cond-recur.html\n",
        "\n",
        "1) O módulo time fornece uma função, também chamada time, que devolve a Hora Média de Greenwich na “época”, que é um momento arbitrário usado como ponto de referência. Em sistemas UNIX, a época é primeiro de janeiro de 1970."
      ]
    },
    {
      "cell_type": "code",
      "metadata": {
        "id": "_vNAy-wRtXl5",
        "colab": {
          "base_uri": "https://localhost:8080/"
        },
        "outputId": "aa78b31f-bb05-48dc-8d79-38578c6186eb"
      },
      "source": [
        "import time\n",
        "time.time()"
      ],
      "execution_count": null,
      "outputs": [
        {
          "output_type": "execute_result",
          "data": {
            "text/plain": [
              "1630885973.7980227"
            ]
          },
          "metadata": {},
          "execution_count": 1
        }
      ]
    },
    {
      "cell_type": "markdown",
      "metadata": {
        "id": "kpBAhm6wYYsi"
      },
      "source": [
        "#Exercício 1"
      ]
    },
    {
      "cell_type": "code",
      "metadata": {
        "colab": {
          "base_uri": "https://localhost:8080/"
        },
        "id": "utsA5eA5YXw5",
        "outputId": "0a550797-b2dd-4346-f6cb-545d852d030b"
      },
      "source": [
        "import time\n",
        "time.time()"
      ],
      "execution_count": null,
      "outputs": [
        {
          "output_type": "execute_result",
          "data": {
            "text/plain": [
              "1630892713.0622215"
            ]
          },
          "metadata": {},
          "execution_count": 6
        }
      ]
    },
    {
      "cell_type": "markdown",
      "metadata": {
        "id": "6PCPU7YnCYZV"
      },
      "source": [
        "Escreva um script que leia a hora atual e a converta em um tempo em horas, minutos e segundos, mais o número de dias desde a época."
      ]
    },
    {
      "cell_type": "code",
      "metadata": {
        "id": "5fvfD6Icx-0v"
      },
      "source": [
        "time.strftime('%Y-%m-%d %H:%M:%S', time.gmtime()) #luiz git commit"
      ],
      "execution_count": null,
      "outputs": []
    },
    {
      "cell_type": "markdown",
      "metadata": {
        "id": "0GPsuxs0CZ2f"
      },
      "source": [
        "2) O último teorema de Fermat diz que não existem números inteiros a, b e c tais que `a**n + b**n == c**n` para quaisquer valores de n maiores que 2.\n",
        "   1. Escreva uma função chamada `check_fermat` que receba quatro parâmetros – a, b, c e n – e verifique se o teorema de Fermat se mantém. Se n for maior que 2 e `a**n + b**n == c**n` o programa deve imprimir, “Holy smokes, Fermat was wrong!” Senão o programa deve exibir “No, that doesn’t work.”\n",
        "\n",
        "   1. Escreva uma função que peça ao usuário para digitar valores para a, b, c e n, os converta em números inteiros e use `check_fermat` para verificar se violam o teorema de Fermat."
      ]
    },
    {
      "cell_type": "code",
      "metadata": {
        "colab": {
          "base_uri": "https://localhost:8080/"
        },
        "id": "K9o3CF5hyJ8S",
        "outputId": "c033f463-91c4-4b02-ba55-765870c3e4bc"
      },
      "source": [
        "def Check_fermat(a,b,c,n):\n",
        "  if n>=2 & (a**n + b**n == c**n):\n",
        "    print(\"Holy smokes, Fermat was wrong!\")\n",
        "  else:\n",
        "    print(\"No, that doesn’t work\")\n",
        "\n",
        "Check_fermat(2,2,2,2)"
      ],
      "execution_count": null,
      "outputs": [
        {
          "output_type": "stream",
          "name": "stdout",
          "text": [
            "Holy smokes, Fermat was wrong!\n"
          ]
        }
      ]
    },
    {
      "cell_type": "markdown",
      "metadata": {
        "id": "Ccx6RkOjCoG0"
      },
      "source": [
        "3) Há um teste simples para ver se é possível formar um triângulo para quaisquer três comprimentos: Se algum dos três comprimentos for maior que a soma dos outros dois, então você não pode formar um triângulo. Senão, você pode. (Se a soma de dois comprimentos igualar o terceiro, eles formam um triângulo chamado “degenerado”.)\n",
        "   1. Escreva uma função chamada `is_triangle` que receba três números inteiros como argumentos, e que imprima “Yes” ou “No”, dependendo da possibilidade de formar ou não um triângulo de gravetos com os comprimentos dados.\n",
        "   1. Escreva uma função que peça ao usuário para digitar três comprimentos de gravetos, os converta em números inteiros e use `is_triangle` para verificar se os gravetos com os comprimentos dados podem formar um triângulo."
      ]
    },
    {
      "cell_type": "code",
      "metadata": {
        "colab": {
          "base_uri": "https://localhost:8080/"
        },
        "id": "wErTI9RG61HJ",
        "outputId": "4716ce26-0113-4ec6-e8b6-4f17bf7d24a5"
      },
      "source": [
        "def is_triangle(lado_1,lado_2,lado_3):\n",
        "  if (lado_1>lado_2+lado_3) | (lado_2>lado_3+lado_1) | (lado_3>lado_2+lado_1):\n",
        "    print(\"No\")\n",
        "  else: \n",
        "    print(\"Yes\")\n",
        "\n",
        "is_triangle(7,3,3)\n",
        "#--------------------------------------------------------------------------------\n",
        "def entre_com_valores():\n",
        "  lado_1 = int(input(\"Entre com o comprimento do primeiro graveto: \"))\n",
        "  lado_2 = int(input(\"Entre com o comprimento do segundo graveto: \"))\n",
        "  lado_3 = int(input(\"Entre com o comprimento do terceiro graveto: \"))\n",
        "  is_triangle(lado_1,lado_2,lado_3)\n",
        "\n",
        "entre_com_valores()"
      ],
      "execution_count": null,
      "outputs": [
        {
          "output_type": "stream",
          "name": "stdout",
          "text": [
            "No\n",
            "Entre com o comprimento do primeiro graveto: 7\n",
            "Entre com o comprimento do segundo graveto: 3\n",
            "Entre com o comprimento do terceiro graveto: 3\n",
            "No\n"
          ]
        }
      ]
    },
    {
      "cell_type": "markdown",
      "metadata": {
        "id": "y_tsQq67C73t"
      },
      "source": [
        "4) Leia a próxima função e veja se consegue compreender o que ela faz (veja os exemplos no Capítulo 4). Então execute-a e veja se acertou."
      ]
    },
    {
      "cell_type": "code",
      "metadata": {
        "id": "p1LUrtA2C99E"
      },
      "source": [
        "def draw(t, length, n):\n",
        "    '''\n",
        "    t: turtle ou ColabTurtle\n",
        "    length: comprimento da linha\n",
        "    n: número de iterações. deve ser maior que zero.\n",
        "    '''\n",
        "    if n == 0:\n",
        "        return\n",
        "    angle = 50\n",
        "    t.forward(length * n)\n",
        "    t.left(angle)\n",
        "    draw(t, length, n-1)\n",
        "    t.right(2 * angle)\n",
        "    draw(t, length, n-1)\n",
        "    t.left(angle)\n",
        "    t.backward(length * n)"
      ],
      "execution_count": null,
      "outputs": []
    },
    {
      "cell_type": "markdown",
      "metadata": {
        "id": "DL3rYi_5Bes9"
      },
      "source": [
        "#Resposta:\n",
        "Não acertei kkk"
      ]
    },
    {
      "cell_type": "markdown",
      "metadata": {
        "id": "WpeZVhIBElfQ"
      },
      "source": [
        "5) A curva de Koch é um fractal que parece com o da Figura abaixo. \n",
        "![](https://github.com/PenseAllen/PensePython2e/raw/master/fig/tnkp_0502.png)\n",
        "\n",
        "Para desenhar uma curva de Koch com o comprimento x, tudo o que você tem que fazer é:\n",
        "\n",
        "1. Desenhe uma curva de Koch com o comprimento x/3.\n",
        "\n",
        "1. Vire 60 graus à esquerda.\n",
        "\n",
        "1. Desenhe uma curva de Koch com o comprimento x/3.\n",
        "\n",
        "1. Vire 120 graus à direita.\n",
        "\n",
        "1. Desenhe uma curva de Koch com o comprimento x/3.\n",
        "\n",
        "1. Vire 60 graus à esquerda.\n",
        "\n",
        "1. Desenhe uma curva de Koch com o comprimento x/3.\n",
        "\n",
        "\n",
        "A exceção é se x for menor que 3: neste caso, você pode desenhar apenas uma linha reta com o comprimento x.\n",
        "\n",
        "1. Escreva uma função chamada `koch` que receba um `turtle` (usar [trinket](https://trinket.io/turtle)) e um comprimento como parâmetros, e use o `turtle` para desenhar uma curva de Koch com o comprimento dado.\n",
        "\n",
        "1. Escreva uma função chamada `snowflake` que desenhe três curvas de Koch para fazer o traçado de um floco de neve.\n",
        "\n",
        "1. A curva de Koch pode ser generalizada de vários modos. Veja exemplos em http://en.wikipedia.org/wiki/Koch_snowflake e implemente o seu favorito."
      ]
    },
    {
      "cell_type": "code",
      "metadata": {
        "id": "2HNZL9xoCIVf"
      },
      "source": [
        "#Implementei a solução que achei na internet\n",
        "# Python program to print complete Koch Curve. \n",
        "from turtle import *\n",
        "  \n",
        "# function to create koch snowflake or koch curve \n",
        "def snowflake(lengthSide, levels): \n",
        "    if levels == 0: \n",
        "        forward(lengthSide) \n",
        "        return\n",
        "    lengthSide /= 3.0\n",
        "    snowflake(lengthSide, levels-1) \n",
        "    left(60) \n",
        "    snowflake(lengthSide, levels-1) \n",
        "    right(120) \n",
        "    snowflake(lengthSide, levels-1) \n",
        "    left(60) \n",
        "    snowflake(lengthSide, levels-1) \n",
        "  \n",
        "# main function \n",
        "if __name__ == \"__main__\": \n",
        "    # defining the speed of the turtle \n",
        "    speed(9999)                    \n",
        "    length = 300.0   \n",
        "  \n",
        "    # Pull the pen up – no drawing when moving. \n",
        "    # Move the turtle backward by distance, opposite \n",
        "    # to the direction the turtle is headed. \n",
        "    # Do not change the turtle’s heading.            \n",
        "    penup()                      \n",
        "  \n",
        "    backward(length/2.0) \n",
        "  \n",
        "    # Pull the pen down – drawing when moving.         \n",
        "    pendown()            \n",
        "    for i in range(3):     \n",
        "        snowflake(length, 4) \n",
        "        right(120) \n",
        "  \n",
        "     # To control the closing windows of the turtle \n",
        "    mainloop()   "
      ],
      "execution_count": null,
      "outputs": []
    }
  ]
}