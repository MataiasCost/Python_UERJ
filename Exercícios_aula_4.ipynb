{
  "nbformat": 4,
  "nbformat_minor": 0,
  "metadata": {
    "kernelspec": {
      "display_name": "Python 3",
      "language": "python",
      "name": "python3"
    },
    "language_info": {
      "codemirror_mode": {
        "name": "ipython",
        "version": 3
      },
      "file_extension": ".py",
      "mimetype": "text/x-python",
      "name": "python",
      "nbconvert_exporter": "python",
      "pygments_lexer": "ipython3",
      "version": "3.6.4"
    },
    "colab": {
      "name": "aula4_funcoes.ipynb",
      "provenance": [],
      "collapsed_sections": [],
      "include_colab_link": true
    }
  },
  "cells": [
    {
      "cell_type": "markdown",
      "metadata": {
        "id": "view-in-github",
        "colab_type": "text"
      },
      "source": [
        "<a href=\"https://colab.research.google.com/github/MataiasCost/Python_UERJ/blob/main/Exerc%C3%ADcios_aula_4.ipynb\" target=\"_parent\"><img src=\"https://colab.research.google.com/assets/colab-badge.svg\" alt=\"Open In Colab\"/></a>"
      ]
    },
    {
      "cell_type": "markdown",
      "metadata": {
        "id": "lLw95iEWzVdr"
      },
      "source": [
        "### Exercício:\n",
        "\n",
        "   1. Escreva uma função com um valor de retorno que:\n",
        "      * tome como _input_ dois argumentos;\n",
        "      * execute a soma dos dois parâmetros que foram passados como argumento e atribua o resultado a uma variável;\n",
        "      * tenha como valor de retorno o dobro da soma dos dois parâmetros.\n",
        "\n",
        "   2. Um objeto de função é um valor que você pode atribuir a uma variável ou passar como um argumento. Por exemplo, ```do_twice``` é uma função que usa um objeto de função como argumento e o chama duas vezes:\n"
      ]
    },
    {
      "cell_type": "code",
      "metadata": {
        "id": "woArOSSNzVds"
      },
      "source": [
        "def do_twice (f): \n",
        "    f () \n",
        "    f ()"
      ],
      "execution_count": null,
      "outputs": []
    },
    {
      "cell_type": "markdown",
      "metadata": {
        "id": "lbP8VjuQzVdu"
      },
      "source": [
        "Aqui está um exemplo que usa ```do_twice``` para chamar uma função chamada ```print_spam``` duas vezes.\n"
      ]
    },
    {
      "cell_type": "code",
      "metadata": {
        "id": "-h-QwkrvzVdw"
      },
      "source": [
        "def print_spam (): \n",
        "    print('spam') \n",
        "\n",
        "do_twice (print_spam)"
      ],
      "execution_count": null,
      "outputs": []
    },
    {
      "cell_type": "markdown",
      "metadata": {
        "id": "DL4IUvnOzVdz"
      },
      "source": [
        "Para este exercício :\n",
        "\n",
        "  a. Digite este exemplo em um script e teste-o.\n",
        "\n",
        "  b. Modifique ```do_twice``` para que sejam necessários dois argumentos, um objeto de função ``f`` e um valor ``x``, e chame a função duas vezes, passando o valor como um argumento.\n",
        "\n",
        "  c. Escreva uma versão mais geral de ```print_spam```, chamada ```print_twice```, que use uma _string_ como parâmetro e imprima duas vezes.\n",
        "\n",
        "  d. Use a versão modificada (no item b) de ``` do_twice``` para chamar ```print_twice``` duas vezes, passando ```'spam'``` como um argumento.\n",
        "\n",
        "  e. Defina uma nova função chamada ```do_four``` que recebe um objeto de função e um valor e chama a função ___quatro___ vezes, passando o valor como um parâmetro. Deve haver apenas duas declarações no corpo desta função, e não quatro.\n",
        "\n",
        "  "
      ]
    },
    {
      "cell_type": "markdown",
      "metadata": {
        "id": "XJPOxWXqzVdz"
      },
      "source": [
        "Esta aula foi tomada quase íntegramente do livro ThinkPython, capítulo 3 http://greenteapress.com/thinkpython/html/thinkpython004.html\n"
      ]
    }
  ]
}