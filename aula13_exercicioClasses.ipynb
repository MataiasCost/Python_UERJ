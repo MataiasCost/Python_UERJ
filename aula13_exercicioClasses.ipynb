{
  "nbformat": 4,
  "nbformat_minor": 0,
  "metadata": {
    "kernelspec": {
      "display_name": "Python 3",
      "language": "python",
      "name": "python3"
    },
    "language_info": {
      "codemirror_mode": {
        "name": "ipython",
        "version": 3
      },
      "file_extension": ".py",
      "mimetype": "text/x-python",
      "name": "python",
      "nbconvert_exporter": "python",
      "pygments_lexer": "ipython3",
      "version": "3.6.4"
    },
    "colab": {
      "name": "aula13_exercicioClasses.ipynb",
      "provenance": [],
      "include_colab_link": true
    }
  },
  "cells": [
    {
      "cell_type": "markdown",
      "metadata": {
        "id": "view-in-github",
        "colab_type": "text"
      },
      "source": [
        "<a href=\"https://colab.research.google.com/github/MataiasCost/Python_UERJ/blob/main/aula13_exercicioClasses.ipynb\" target=\"_parent\"><img src=\"https://colab.research.google.com/assets/colab-badge.svg\" alt=\"Open In Colab\"/></a>"
      ]
    },
    {
      "cell_type": "markdown",
      "metadata": {
        "id": "EdYNQfYbEnk_"
      },
      "source": [
        "# Exercícios da aula passada:\n",
        "\n",
        "1) Escreva uma função que calcula a distância entre dois pontos, usando a classe Ponto que fizemos nessa aula.\n",
        "\n",
        "2) Adicione um método reflexao_x à classe Ponto que retorna uma instância de Ponto, que é o reflexo do Ponto sobre o eixo x. Por exemplo, Point (3, 5) .reflexao_x () é (3, -5)\n",
        "\n",
        "3) Adicione um método ***inclinacao_da_origem*** à classe Ponto, que retorne a inclinação da linha que une a origem ao Ponto. Por exemplo,"
      ]
    },
    {
      "cell_type": "markdown",
      "metadata": {
        "id": "yOtTODi34N9i"
      },
      "source": [
        "1) Escreva uma função que calcula a distância entre dois pontos, usando a classe Ponto que fizemos nessa aula."
      ]
    },
    {
      "cell_type": "code",
      "metadata": {
        "id": "NjsLi_ox4PwV",
        "colab": {
          "base_uri": "https://localhost:8080/"
        },
        "outputId": "e5864087-c248-444e-c820-2e10d184bde7"
      },
      "source": [
        "import math \n",
        "class Ponto:\n",
        "    \"\"\" Cria um novo Ponto, com coordenadas x, y \"\"\"\n",
        "\n",
        "    def __init__(self, x=0, y=0):\n",
        "        \"\"\" Inicializa em x, y o novo ponto criado pela classe \"\"\"\n",
        "        self.x = x\n",
        "        self.y = y\n",
        "\n",
        "    def distancia_da_origem(self):\n",
        "        \"\"\" Calcula minha distânica da origem \"\"\"\n",
        "        return ((self.x ** 2) + (self.y ** 2)) ** 0.5\n",
        "    \n",
        "    def ponto_medio(self, alvo):\n",
        "        \"\"\" Retorna o ponto medio entre esse ponto e o alvo \"\"\"\n",
        "        mx = (self.x + alvo.x)/2\n",
        "        my = (self.y + alvo.y)/2\n",
        "        return Ponto(mx, my)\n",
        "    \n",
        "    def __str__(self):\n",
        "        return \"({0}, {1})\".format(self.x, self.y)\n",
        "    \n",
        "    def distancia_entre_pontos(self,alvo):\n",
        "        distancia_x = math.fabs(self.x - alvo.x)\n",
        "        distancia_y = math.fabs(self.y - alvo.y)\n",
        "        distancia = (distancia_x**2 + distancia_y**2)**0.5\n",
        "        return distancia\n",
        "\n",
        "\n",
        "p= Ponto()\n",
        "q = Ponto(4,3)\n",
        "d = p.distancia_entre_pontos(q)\n",
        "print(d)"
      ],
      "execution_count": null,
      "outputs": [
        {
          "output_type": "stream",
          "name": "stdout",
          "text": [
            "5.0\n"
          ]
        }
      ]
    },
    {
      "cell_type": "markdown",
      "metadata": {
        "id": "xMHQShTd5GIC"
      },
      "source": [
        "2) Adicione um método reflexao_x à classe Ponto que retorna uma instância de Ponto, que é o reflexo do Ponto sobre o eixo x. Por exemplo, Point (3, 5) .reflexao_x () é (3, -5)"
      ]
    },
    {
      "cell_type": "code",
      "metadata": {
        "id": "WQsBvNOI5K5t"
      },
      "source": [
        "import math \n",
        "class Ponto:\n",
        "    \"\"\" Cria um novo Ponto, com coordenadas x, y \"\"\"\n",
        "\n",
        "    def __init__(self, x=0, y=0):\n",
        "        \"\"\" Inicializa em x, y o novo ponto criado pela classe \"\"\"\n",
        "        self.x = x\n",
        "        self.y = y\n",
        "\n",
        "    def distancia_da_origem(self):\n",
        "        \"\"\" Calcula minha distânica da origem \"\"\"\n",
        "        return ((self.x ** 2) + (self.y ** 2)) ** 0.5\n",
        "    \n",
        "    def ponto_medio(self, alvo):\n",
        "        \"\"\" Retorna o ponto medio entre esse ponto e o alvo \"\"\"\n",
        "        mx = (self.x + alvo.x)/2\n",
        "        my = (self.y + alvo.y)/2\n",
        "        return Ponto(mx, my)\n",
        "    \n",
        "    def __str__(self):\n",
        "        return \"({0}, {1})\".format(self.x, self.y)\n",
        "    \n",
        "    def distancia_entre_pontos(self,alvo):\n",
        "        distancia_x = math.fabs(self.x - alvo.x)\n",
        "        distancia_y = math.fabs(self.y - alvo.y)\n",
        "        distancia = (distancia_x**2 + distancia_y**2)**0.5\n",
        "        return distancia\n",
        "        \n",
        "    def reflexao_x(self):\n",
        "        return Ponto(self.x,-self.y)\n",
        "\n",
        "\n",
        "\n",
        "q = Ponto(4,3)\n",
        "d = q.reflexao_x()\n",
        "print(d)"
      ],
      "execution_count": null,
      "outputs": []
    },
    {
      "cell_type": "markdown",
      "metadata": {
        "id": "ZLQSl1xb8auw"
      },
      "source": [
        " Adicione um método inclinacao_da_origem à classe Ponto, que retorne a inclinação da linha que une a origem ao Ponto. Por exemplo,"
      ]
    },
    {
      "cell_type": "code",
      "metadata": {
        "id": "G-VQ94VsEnlA",
        "outputId": "3b2617fc-9324-4c2d-ab5a-90bad113db4e"
      },
      "source": [
        "from Ponto import *\n",
        "Ponto(4, 10).inclinacao_origem()"
      ],
      "execution_count": null,
      "outputs": [
        {
          "output_type": "execute_result",
          "data": {
            "text/plain": [
              "2.5"
            ]
          },
          "metadata": {
            "tags": []
          },
          "execution_count": 5
        }
      ]
    },
    {
      "cell_type": "code",
      "metadata": {
        "id": "9HG6T_8a8cFz",
        "colab": {
          "base_uri": "https://localhost:8080/"
        },
        "outputId": "12afcd13-f8bf-446f-ebf4-d26c698b0cff"
      },
      "source": [
        "import math \n",
        "class Ponto:\n",
        "    \"\"\" Cria um novo Ponto, com coordenadas x, y \"\"\"\n",
        "\n",
        "    def __init__(self, x=0, y=0):\n",
        "        \"\"\" Inicializa em x, y o novo ponto criado pela classe \"\"\"\n",
        "        self.x = x\n",
        "        self.y = y\n",
        "\n",
        "    def distancia_da_origem(self):\n",
        "        \"\"\" Calcula minha distânica da origem \"\"\"\n",
        "        return ((self.x ** 2) + (self.y ** 2)) ** 0.5\n",
        "    \n",
        "    def ponto_medio(self, alvo):\n",
        "        \"\"\" Retorna o ponto medio entre esse ponto e o alvo \"\"\"\n",
        "        mx = (self.x + alvo.x)/2\n",
        "        my = (self.y + alvo.y)/2\n",
        "        return Ponto(mx, my)\n",
        "    \n",
        "    def __str__(self):\n",
        "        return \"({0}, {1})\".format(self.x, self.y)\n",
        "    \n",
        "    def distancia_entre_pontos(self,alvo):\n",
        "        distancia_x = math.fabs(self.x - alvo.x)\n",
        "        distancia_y = math.fabs(self.y - alvo.y)\n",
        "        distancia = (distancia_x**2 + distancia_y**2)**0.5\n",
        "        return distancia\n",
        "        \n",
        "    def reflexao_x(self):\n",
        "        return Ponto(self.x,-self.y)\n",
        "    def inclinacao_origem(self):\n",
        "      try:\n",
        "        return math.atan(self.x/self.y)*57.2958\n",
        "      except: #caso do self.y ser 0\n",
        "        print('0')\n",
        "    \n",
        "\n",
        "Ponto(4,0).inclinacao_origem()"
      ],
      "execution_count": null,
      "outputs": [
        {
          "output_type": "stream",
          "name": "stdout",
          "text": [
            "0\n"
          ]
        }
      ]
    },
    {
      "cell_type": "markdown",
      "metadata": {
        "id": "3kAzsBogEnlC"
      },
      "source": [
        "O que pode dar errado com esse programa?\n",
        "Reposta: Caso o valor do ponto no eixo y seja 0, a função tera uma indeterminação.\n",
        "\n",
        "4) A equação de uma linha reta é “y = ax + b”. Os coeficientes a e b descrevem completamente a linha. Escreva um método na classe Ponto para que, se uma instância Ponto receber outro Ponto, calcule a equação da linha reta que une os dois pontos. Deve retornar os dois coeficientes como uma tupla de dois valores. Por exemplo,"
      ]
    },
    {
      "cell_type": "code",
      "metadata": {
        "id": "ahwUGU-nEnlC",
        "outputId": "15a68a85-9822-411f-a829-5bbb37e4dc9f"
      },
      "source": [
        "from Ponto import *\n",
        "print(Ponto(4,11).parametros_reta(Ponto(6,15)))"
      ],
      "execution_count": null,
      "outputs": [
        {
          "output_type": "stream",
          "text": [
            "(2.0, 3.0)\n"
          ],
          "name": "stdout"
        }
      ]
    },
    {
      "cell_type": "markdown",
      "metadata": {
        "id": "K1AY0_vQEnlD"
      },
      "source": [
        "O resultado acima nos diz que a equação da reta é y = 2x + 3. Quando esse método falha?"
      ]
    },
    {
      "cell_type": "code",
      "metadata": {
        "id": "zjt8zeliLGwr",
        "colab": {
          "base_uri": "https://localhost:8080/"
        },
        "outputId": "32385eaa-1133-466d-f849-976a7cf35034"
      },
      "source": [
        "import math \n",
        "class Ponto:\n",
        "    \"\"\" Cria um novo Ponto, com coordenadas x, y \"\"\"\n",
        "\n",
        "    def __init__(self, x=0, y=0):\n",
        "        \"\"\" Inicializa em x, y o novo ponto criado pela classe \"\"\"\n",
        "        self.x = x\n",
        "        self.y = y\n",
        "\n",
        "    def distancia_da_origem(self):\n",
        "        \"\"\" Calcula minha distânica da origem \"\"\"\n",
        "        return ((self.x ** 2) + (self.y ** 2)) ** 0.5\n",
        "    \n",
        "    def ponto_medio(self, alvo):\n",
        "        \"\"\" Retorna o ponto medio entre esse ponto e o alvo \"\"\"\n",
        "        mx = (self.x + alvo.x)/2\n",
        "        my = (self.y + alvo.y)/2\n",
        "        return Ponto(mx, my)\n",
        "    \n",
        "    def __str__(self):\n",
        "        return \"({0}, {1})\".format(self.x, self.y)\n",
        "    \n",
        "    def distancia_entre_pontos(self,alvo):\n",
        "        distancia_x = math.fabs(self.x - alvo.x)\n",
        "        distancia_y = math.fabs(self.y - alvo.y)\n",
        "        distancia = (distancia_x**2 + distancia_y**2)**0.5\n",
        "        return distancia\n",
        "        \n",
        "    def reflexao_x(self):\n",
        "        return Ponto(self.x,-self.y)\n",
        "    def inclinacao_origem(self):\n",
        "      try:\n",
        "        return math.atan(self.x/self.y)*57.2958\n",
        "      except: #caso do self.y ser 0\n",
        "        print('0')\n",
        "    def parametros_reta(self,alvo):\n",
        "      #reta = distancia_entre_pontos(self,alvo)\n",
        "      origem = Ponto()\n",
        "      if self.x < alvo.x:\n",
        "        vetor_posicao = Ponto(alvo.x-self.x,alvo.y-self.y)\n",
        "      elif alvo.x < self.x:\n",
        "        vetor_posicao = Ponto(self.x-alvo.x,self.y-alvo.y)\n",
        "      else:\n",
        "        if self.y == alvo.y:\n",
        "          return \"você me deu dois pontos iguais, não posso achar a equação de reta assim!\"\n",
        "        else:\n",
        "          return \"Pro caso desse exercício, não existe função do tipo y= ax + b que satisfaça esses pontos que você colocou.\" \n",
        "      # print(self.y)\n",
        "      # print(vetor_posicao.y)\n",
        "      # print(self.x)\n",
        "      # print(vetor_posicao.x)\n",
        "      a = vetor_posicao.y/ vetor_posicao.x\n",
        "      b = self.y -a * self.x\n",
        "      return a,b\n",
        "\n",
        "print(Ponto(0,1).parametros_reta(Ponto(5,1)))"
      ],
      "execution_count": 21,
      "outputs": [
        {
          "output_type": "stream",
          "name": "stdout",
          "text": [
            "(0.0, 1.0)\n"
          ]
        }
      ]
    },
    {
      "cell_type": "markdown",
      "metadata": {
        "id": "EwvQUSAVEnlD"
      },
      "source": [
        "# Exercícios da aula de hoje:\n",
        "\n",
        "5) Usando a classe **Ponto** criada na última aula escreva uma classe **Retangulo**. A definição da classe Retangulo é:"
      ]
    },
    {
      "cell_type": "code",
      "metadata": {
        "id": "TtQKKKt8EnlD",
        "outputId": "bbd756b0-ac83-46b6-ee17-f4de40142128",
        "colab": {
          "base_uri": "https://localhost:8080/"
        }
      },
      "source": [
        "class Retangulo(Ponto):\n",
        "    \"\"\"Representa um retangulo. \n",
        "    atributos: \n",
        "    - largura, do tipo float\n",
        "    - altura, do tipo float \n",
        "    - canto, do tipo Ponto.\n",
        "    \"\"\"\n",
        "    def __init__(self, largura = 0, altura = 0, ponto = 0):\n",
        "        \"\"\" Inicializa em x, y o novo ponto criado pela classe \"\"\"\n",
        "        super().__init__(ponto.x,ponto.y)\n",
        "        self.L = largura\n",
        "        self.H = altura\n",
        "        self.p = Ponto(ponto.x,ponto.y)\n",
        "\n",
        "ret = Retangulo(10,20,Ponto(2,3))\n",
        "print(ret)"
      ],
      "execution_count": 67,
      "outputs": [
        {
          "output_type": "stream",
          "name": "stdout",
          "text": [
            "(2, 3)\n"
          ]
        }
      ]
    },
    {
      "cell_type": "markdown",
      "metadata": {
        "id": "fhEQ6vGIK99U"
      },
      "source": [
        "6) Escreva uma definição para uma classe chamada **Circulo** com atributos ***centro*** e ***raio***, em que ***centro*** é um objeto do tipo **Ponto** e ***raio*** é um número.\n",
        "   * Instancie um objeto **Circulo** que represente um círculo com seu centro em (150, 100) e raio 75 e imprima na tela as coordenadas (x,y) do centro do círculo.\n",
        "   * Escreva uma função chamada ponto_no_circulo que use um Circulo e um Ponto e retorne True se o Ponto estiver dentro do círculo ou no limite do mesmo.\n",
        "\n",
        "\n"
      ]
    },
    {
      "cell_type": "code",
      "metadata": {
        "id": "17BEnNcBLIzb",
        "outputId": "59bfe158-5a8b-4826-d5c3-0d9c1e5cf9f4",
        "colab": {
          "base_uri": "https://localhost:8080/",
          "height": 55
        }
      },
      "source": [
        "class Circulo(Ponto):\n",
        "\n",
        "  def __init__ (self,centro,raio):\n",
        "    super().__init__(centro.x,centro.y)\n",
        "    self.raio = raio\n",
        "    self.c = Ponto(centro.x,centro.y)\n",
        "\n",
        "  def ponto_no_circulo(self,alvo):\n",
        "    if self.distancia_entre_pontos(alvo) >= self.raio:\n",
        "      return \"O ponto está fora do circulo\"\n",
        "    else:\n",
        "      return \"O ponto está dentor do circulo\"\n",
        "    \n",
        "circ = Circulo(Ponto(150,100),75)\n",
        "print(circ)\n",
        "\n",
        "# Segunda parte\n",
        "ponto_aleatorio = Ponto(75,30)\n",
        "circ.ponto_no_circulo(ponto_aleatorio)"
      ],
      "execution_count": 70,
      "outputs": [
        {
          "output_type": "stream",
          "name": "stdout",
          "text": [
            "(150, 100)\n"
          ]
        },
        {
          "output_type": "execute_result",
          "data": {
            "application/vnd.google.colaboratory.intrinsic+json": {
              "type": "string"
            },
            "text/plain": [
              "'O ponto está fora do circulo'"
            ]
          },
          "metadata": {},
          "execution_count": 70
        }
      ]
    },
    {
      "cell_type": "markdown",
      "metadata": {
        "id": "UFdhEjk5ajT4"
      },
      "source": [
        "7) Escreva uma função chamada **desenhar_ret** que use um objeto ***Turtle*** e um ***Retangulo*** e use o Turtle para desenhar o retângulo."
      ]
    },
    {
      "cell_type": "markdown",
      "metadata": {
        "id": "JGuVeaQgEnlD"
      },
      "source": [
        "\n",
        "   \n",
        "\n",
        "\n",
        "8) Escreva uma função chamada desenhar_circulo que use uma ***Turtle*** e um ***Circulo*** e desenhe o ***Circulo***."
      ]
    },
    {
      "cell_type": "code",
      "metadata": {
        "id": "DpkFyT6kEnlD"
      },
      "source": [
        ""
      ],
      "execution_count": null,
      "outputs": []
    },
    {
      "cell_type": "code",
      "metadata": {
        "id": "cGEkeZFRair4"
      },
      "source": [
        ""
      ],
      "execution_count": null,
      "outputs": []
    }
  ]
}