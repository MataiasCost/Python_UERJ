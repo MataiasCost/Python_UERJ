{
  "nbformat": 4,
  "nbformat_minor": 0,
  "metadata": {
    "kernelspec": {
      "display_name": "Python 3",
      "language": "python",
      "name": "python3"
    },
    "language_info": {
      "codemirror_mode": {
        "name": "ipython",
        "version": 3
      },
      "file_extension": ".py",
      "mimetype": "text/x-python",
      "name": "python",
      "nbconvert_exporter": "python",
      "pygments_lexer": "ipython3",
      "version": "3.6.4"
    },
    "colab": {
      "name": "aula6_condicionais.ipynb",
      "provenance": [],
      "collapsed_sections": [],
      "include_colab_link": true
    }
  },
  "cells": [
    {
      "cell_type": "markdown",
      "metadata": {
        "id": "view-in-github",
        "colab_type": "text"
      },
      "source": [
        "<a href=\"https://colab.research.google.com/github/MataiasCost/Python_UERJ/blob/main/Exerc%C3%ADcios_aula6.ipynb\" target=\"_parent\"><img src=\"https://colab.research.google.com/assets/colab-badge.svg\" alt=\"Open In Colab\"/></a>"
      ]
    },
    {
      "cell_type": "markdown",
      "metadata": {
        "id": "7xJo458eRIz_"
      },
      "source": [
        "### Exercícios\n",
        "\n",
        "1. Considere o seguinte script:"
      ]
    },
    {
      "cell_type": "code",
      "metadata": {
        "id": "vB4IycDrhrGa"
      },
      "source": [
        "import turtle\n",
        "\n",
        "def draw_bar(t, height):\n",
        "    \"\"\" Get turtle t to draw one bar, of height. \"\"\"\n",
        "    t.left(90)\n",
        "    t.forward(height)\n",
        "    t.right(90)\n",
        "    t.forward(40)\n",
        "    t.right(90)\n",
        "    t.forward(height)\n",
        "    t.left(90)\n",
        "    t.forward(10)\n",
        "    #t.leftt(90)\n",
        "\n",
        "tess = turtle.Turtle() #instanciação\n",
        "jn = turtle.Screen()\n",
        "\n",
        "tess.color(\"blue\")\n",
        "jn.bgcolor(\"white\")\n",
        "tess.penup() #levantar a caneta\n",
        "tess.goto(-200,-150) #mudar posicao de inicio \n",
        "tess.pendown() #abaixar a caneta\n",
        "\n",
        "xs = [48,117,200,240,160,260,220]\n",
        "\n",
        "for a in xs:\n",
        "    draw_bar(tess, a)"
      ],
      "execution_count": null,
      "outputs": []
    },
    {
      "cell_type": "markdown",
      "metadata": {
        "id": "7UXSE3AaRI0H"
      },
      "source": [
        "1) Modifique-o para que o resultado seja um **histograma**, como o mostrado na figura abaixo.\n",
        "Amplie seu script para que seja possível passar ao programa dados (frequência), com o valor do bin (classe de frequência) e cores determinados pelo usuário.\n",
        "\n",
        "\n",
        "Adicione declarações condicionais à função para casos passíveis de gerar erros, como por exemplo, se alguma variável do argumento da função não for definida.\n",
        "\n",
        "***Exemplo***: Generalize sua função para tomar como argumento uma lista que contenha as frequências do histograma e verifique que o argumento realmente é uma lista. Caso não seja, imprima uma mensagem de erro.\n",
        "\n",
        "![](https://raw.githubusercontent.com/malbouis/Python_intro/master/aulas_2019/pics/histo.png)\n",
        "\n",
        "2) Repita o exercício 1) usando **Manipulação de exceção em Python** (pesquisem!!!!), com as cláusulas ```try``` e ```except```.  <=== **A ser apresentado em sala de aula**.\n",
        "\n",
        "2) **Desafio**: Faça um programa equivalente ao do item 1., utilizando ***matplotlib*** e ***numpy*** ao invés de ***turtle***"
      ]
    },
    {
      "cell_type": "markdown",
      "metadata": {
        "id": "69UWh51GNzpe"
      },
      "source": [
        "#Exercício 1"
      ]
    },
    {
      "cell_type": "code",
      "metadata": {
        "id": "PsL_NL9xN2lC"
      },
      "source": [
        "import turtle\n",
        "\n",
        "def draw_bar(t, lista):\n",
        "  if type(lista) is list:\n",
        "    for valores in lista:\n",
        "      t.begin_fill()\n",
        "      t.left(90)\n",
        "      t.forward(valores)\n",
        "      t.color(cor_indice)\n",
        "      t.write(str(valores))\n",
        "      t.color(cor_linha)\n",
        "      t.fillcolor(cor_colunas)\n",
        "      t.right(90)\n",
        "      t.forward(40)\n",
        "      t.right(90)\n",
        "      t.forward(valores)\n",
        "      t.left(90)\n",
        "      t.fill(cor_colunas)\n",
        "      t.end_fill()\n",
        "  else:\n",
        "    print(\"não entrou com uma lista\")\n",
        "\n",
        "tess = turtle.Turtle() #instanciação\n",
        "jn = turtle.Screen()\n",
        "\n",
        "\n",
        "\n",
        "\n",
        "v=[2]\n",
        "print(type(v))\n",
        "\n",
        "\n",
        "cor_linha=input(\"Entre com a cor das linhas:\")\n",
        "cor_colunas = input(\"Entre com a cor que vai preencher as colunas:\")\n",
        "cor_indice = input(\"Entre com a cor que os indices terão\")\n",
        "cor_fundo = input(\"Entre com a cor do fundo:\")\n",
        "#xs=[]\n",
        "\n",
        "n = int(input('Digite a lista de frequencias '))\n",
        "\n",
        "frequencia = list()\n",
        "for c in range(1, n + 1):\n",
        "    x = input(\"Digite a frequência\")\n",
        "    frequencia.append(x)\n",
        "\n",
        "#print()\n",
        "#print(f'\\033[32mA lista gerada foi: {valores}\\033[m')\n",
        "\n",
        "\n",
        "tess.color(cor_linha)\n",
        "jn.bgcolor(cor_fundo)\n",
        "tess.penup() #levantar a caneta\n",
        "tess.goto(-200,-150) #mudar posicao de inicio \n",
        "tess.pendown() #abaixar a caneta\n",
        "tess.fillcolor(cor_colunas)\n",
        "\n",
        "\n",
        "\n",
        "\n",
        "\n",
        "\n",
        "#print(a)\n",
        "\n",
        "\n",
        "draw_bar(tess, frequencia)"
      ],
      "execution_count": null,
      "outputs": []
    },
    {
      "cell_type": "markdown",
      "metadata": {
        "id": "ETdMUErNRyon"
      },
      "source": [
        "#Exercício 2"
      ]
    },
    {
      "cell_type": "code",
      "metadata": {
        "id": "lAKTDELtKKzv"
      },
      "source": [
        "import turtle\n",
        "\n",
        "def draw_bar(t, lista):\n",
        "  if type(lista) is list:\n",
        "    for valores in lista:\n",
        "      t.begin_fill()\n",
        "      t.left(90)\n",
        "      t.forward(valores)\n",
        "      t.color(cor_indice)\n",
        "      t.write(str(valores))\n",
        "      t.color(cor_linha)\n",
        "      t.fillcolor(cor_colunas)\n",
        "      t.right(90)\n",
        "      t.forward(40)\n",
        "      t.right(90)\n",
        "      t.forward(valores)\n",
        "      t.left(90)\n",
        "      t.fill(cor_colunas)\n",
        "      t.end_fill()\n",
        "  else:\n",
        "    print(\"não entrou com uma lista\")\n",
        "\n",
        "tess = turtle.Turtle() #instanciação\n",
        "jn = turtle.Screen()\n",
        "\n",
        "\n",
        "\n",
        "\n",
        "v=[2]\n",
        "print(type(v))\n",
        "\n",
        "\n",
        "cor_linha=input(\"Entre com a cor das linhas:\")\n",
        "cor_colunas = input(\"Entre com a cor que vai preencher as colunas:\")\n",
        "cor_indice = input(\"Entre com a cor que os indices terão\")\n",
        "cor_fundo = input(\"Entre com a cor do fundo:\")\n",
        "#xs=[]\n",
        "\n",
        "n = int(input('Digite a lista de frequencias '))\n",
        "\n",
        "frequencia = list()\n",
        "for c in range(n):\n",
        "  try:\n",
        "    x = int(input(\"Digite a frequência\"))\n",
        "    frequencia.append(x)\n",
        "  except:\n",
        "    print(\"Comentário do GM: ai não padrin, entro com algo que não fosse inteiro?\")\n",
        "    \n",
        "\n",
        "\n",
        "\n",
        "tess.color(cor_linha)\n",
        "jn.bgcolor(cor_fundo)\n",
        "tess.penup() #levantar a caneta\n",
        "tess.goto(-200,-150) #mudar posicao de inicio \n",
        "tess.pendown() #abaixar a caneta\n",
        "tess.fillcolor(cor_colunas)\n",
        "\n",
        "\n",
        "\n",
        "\n",
        "\n",
        "\n",
        "#print(a)\n",
        "\n",
        "\n",
        "draw_bar(tess, frequencia)"
      ],
      "execution_count": null,
      "outputs": []
    },
    {
      "cell_type": "markdown",
      "metadata": {
        "id": "UYqtRb7TvfOX"
      },
      "source": [
        "#Exerćicios 2- DESAFIO"
      ]
    },
    {
      "cell_type": "code",
      "metadata": {
        "id": "9NyijEIzvk_x",
        "colab": {
          "base_uri": "https://localhost:8080/",
          "height": 442
        },
        "outputId": "97b35ea1-afda-4ba0-f0db-e663eb6fa5aa"
      },
      "source": [
        "import matplotlib.pyplot as plt\n",
        "import numpy as np\n",
        "\n",
        "n = int(input(\"Quantas frequências quer no histograma? \"))\n",
        "bins = np.arange(n)\n",
        "print(bins)\n",
        "frequencia = list()\n",
        "for i in range(int(n)):\n",
        "  try:\n",
        "    x = int(input(\"Digite a frequência: \"))\n",
        "    frequencia.append(x)\n",
        "  except:\n",
        "    booliana = True\n",
        "    while  booliana == True:\n",
        "      print(\"ERRO: ai não padrin, entrou com algo que não fosse inteiro? Entre com um inteiro! \")\n",
        "      try:\n",
        "        x = int(input(\"Digite a frequência: \"))\n",
        "        frequencia.append(x)\n",
        "        booliana = False\n",
        "      except:\n",
        "        booliana = True\n",
        "cor_linha=input(\"Entre com a cor das linhas:\")\n",
        "cor_colunas = input(\"Entre com a cor que vai preencher as colunas:\")\n",
        "cor_indice = input(\"Entre com a cor que os indices terão\")\n",
        "cor_fundo = input(\"Entre com a cor do fundo:\")\n",
        "\n",
        "plt.bar(bins, frequencia, width=1, color=cor_colunas,edgecolor=cor_linha)\n",
        "plt.rcParams['figure.facecolor'] = cor_fundo\n",
        "plt.axis(\"off\")\n",
        "#plt.xaxis().set_visible(False)\n",
        "#plt.axes.get_yaxis().set_visible(False)\n",
        "for i, v in enumerate(frequencia):\n",
        "    plt.text(i - .5,v + 3, str(v), color=cor_indice, fontweight='bold')\n",
        "plt.show()\n"
      ],
      "execution_count": null,
      "outputs": [
        {
          "name": "stdout",
          "output_type": "stream",
          "text": [
            "Quantas frequências quer no histograma? 5\n",
            "[0 1 2 3 4]\n",
            "Digite a frequência: 25\n",
            "Digite a frequência: 50\n",
            "Digite a frequência: 60\n",
            "Digite a frequência: 20\n",
            "Digite a frequência: 120\n",
            "Entre com a cor das linhas:blue\n",
            "Entre com a cor que vai preencher as colunas:red\n",
            "Entre com a cor que os indices terãoblue\n",
            "Entre com a cor do fundo:pink\n"
          ]
        },
        {
          "output_type": "display_data",
          "data": {
            "image/png": "[encoded data removed]",
            "text/plain": [
              "<Figure size 432x288 with 1 Axes>"
            ]
          },
          "metadata": {}
        }
      ]
    }
  ]
}