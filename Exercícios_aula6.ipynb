{
  "nbformat": 4,
  "nbformat_minor": 0,
  "metadata": {
    "kernelspec": {
      "display_name": "Python 3",
      "language": "python",
      "name": "python3"
    },
    "language_info": {
      "codemirror_mode": {
        "name": "ipython",
        "version": 3
      },
      "file_extension": ".py",
      "mimetype": "text/x-python",
      "name": "python",
      "nbconvert_exporter": "python",
      "pygments_lexer": "ipython3",
      "version": "3.6.4"
    },
    "colab": {
      "name": "aula6_condicionais.ipynb",
      "provenance": [],
      "collapsed_sections": [],
      "include_colab_link": true
    }
  },
  "cells": [
    {
      "cell_type": "markdown",
      "metadata": {
        "id": "view-in-github",
        "colab_type": "text"
      },
      "source": [
        "<a href=\"https://colab.research.google.com/github/MataiasCost/Python_UERJ/blob/main/Exerc%C3%ADcios_aula6.ipynb\" target=\"_parent\"><img src=\"https://colab.research.google.com/assets/colab-badge.svg\" alt=\"Open In Colab\"/></a>"
      ]
    },
    {
      "cell_type": "markdown",
      "metadata": {
        "id": "lfImG9sDRIxG"
      },
      "source": [
        "# Condicionais\n",
        "aula baseada no capítulos 5 do livro base desse curso: http://openbookproject.net/thinkcs/python/english3e/index.html\n",
        "\n",
        "\n",
        "Os programas ficam realmente interessantes quando podemos testar as condições e alterar o comportamento do programa, dependendo do resultado dos testes. É disso que trata este capítulo."
      ]
    },
    {
      "cell_type": "markdown",
      "metadata": {
        "id": "XzWDFI5FRIxJ"
      },
      "source": [
        "## Valores booleanos e expressões\n",
        "\n",
        "Um valor **booleano** é um valor verdadeiro ou falso e é a base de toda a computação moderna.\n",
        "\n",
        "Em Python, os dois valores booleanos são True e False (a capitalização deve ser exatamente como mostrado) e o tipo de dados em Python é **bool**.\n",
        "\n"
      ]
    },
    {
      "cell_type": "code",
      "metadata": {
        "id": "KPyyrKXzRIxM",
        "colab": {
          "base_uri": "https://localhost:8080/"
        },
        "outputId": "db769d9d-8f38-402a-dcce-c12834420903"
      },
      "source": [
        "type(True)"
      ],
      "execution_count": null,
      "outputs": [
        {
          "output_type": "execute_result",
          "data": {
            "text/plain": [
              "bool"
            ]
          },
          "metadata": {
            "tags": []
          },
          "execution_count": 2
        }
      ]
    },
    {
      "cell_type": "markdown",
      "metadata": {
        "id": "lVOljVd9RIxl"
      },
      "source": [
        "* **Expressão booleana**: é uma expressão que avalia produzir um resultado que é um valor **booleano**. \n",
        "\n",
        "Por exemplo, o ***operador*** == avalia se dois valores são iguais:"
      ]
    },
    {
      "cell_type": "code",
      "metadata": {
        "id": "K5K6TiiVRIxp",
        "colab": {
          "base_uri": "https://localhost:8080/"
        },
        "outputId": "93028992-119b-470c-bda0-3d6cf6156631"
      },
      "source": [
        "5 == (2 + 3)"
      ],
      "execution_count": null,
      "outputs": [
        {
          "output_type": "execute_result",
          "data": {
            "text/plain": [
              "True"
            ]
          },
          "metadata": {
            "tags": []
          },
          "execution_count": 3
        }
      ]
    },
    {
      "cell_type": "code",
      "metadata": {
        "id": "xmw-5ZR5RIx7",
        "colab": {
          "base_uri": "https://localhost:8080/"
        },
        "outputId": "a237074a-273e-4102-cae3-eb3d33b70a08"
      },
      "source": [
        "5 == 6"
      ],
      "execution_count": null,
      "outputs": [
        {
          "output_type": "execute_result",
          "data": {
            "text/plain": [
              "False"
            ]
          },
          "metadata": {
            "tags": []
          },
          "execution_count": 4
        }
      ]
    },
    {
      "cell_type": "code",
      "metadata": {
        "id": "gkyjgl8GRIyO",
        "colab": {
          "base_uri": "https://localhost:8080/"
        },
        "outputId": "cc8a31c8-754f-424c-e46e-c9d78c2d517c"
      },
      "source": [
        "j = 'hel'\n",
        "j + 'lo' == 'hello'"
      ],
      "execution_count": null,
      "outputs": [
        {
          "output_type": "execute_result",
          "data": {
            "text/plain": [
              "True"
            ]
          },
          "metadata": {
            "tags": []
          },
          "execution_count": 5
        }
      ]
    },
    {
      "cell_type": "markdown",
      "metadata": {
        "id": "qpgvAjhmRIyd"
      },
      "source": [
        "O operador == é um dos seis **operadores de comparação** comuns que produzem um resultado do tipo **bool**; aqui estão todos os seis:\n",
        "\n",
        "* x == y               : Produz ***True*** se x for ***igual*** a y\n",
        "* x != y               : Produz ***True*** se x ***não for igual*** a y\n",
        "* x > y                : Produz ***True*** se x for ***maior*** que y\n",
        "* x < y                : Produz ***True*** se x for ***menor*** y\n",
        "* x >= y               : Produz ***True*** se x for ***maior ou igual*** a y\n",
        "* x <= y               : Produz ***True*** se x for ***menor ou igual*** a y\n",
        "\n",
        "\n",
        "Obs.: o operador == é um **operador de comparação**. O operador = é um **operador de atribuição**.\n"
      ]
    },
    {
      "cell_type": "markdown",
      "metadata": {
        "id": "pbyMUywKRIyf"
      },
      "source": [
        "## Operadores lógicos\n",
        "\n",
        "* ***and***\n",
        "* ***or***\n",
        "* ***not***\n",
        "\n",
        "Com eles, podemos construir operações booleanas complexas a partir de expressões simples.\n",
        "\n"
      ]
    },
    {
      "cell_type": "code",
      "metadata": {
        "id": "SD8k6ma-RIyh",
        "colab": {
          "base_uri": "https://localhost:8080/"
        },
        "outputId": "ba082ca1-561b-4f63-b39b-7913e047be02"
      },
      "source": [
        "x = 0\n",
        "y = 10\n",
        "x == 0 and y <= 10"
      ],
      "execution_count": null,
      "outputs": [
        {
          "output_type": "execute_result",
          "data": {
            "text/plain": [
              "True"
            ]
          },
          "metadata": {
            "tags": []
          },
          "execution_count": 8
        }
      ]
    },
    {
      "cell_type": "code",
      "metadata": {
        "id": "R3tN9PLIRIyx",
        "colab": {
          "base_uri": "https://localhost:8080/"
        },
        "outputId": "a2f00fd4-70d9-4c1d-a76e-6a413c583160"
      },
      "source": [
        "y % 2 == 0 or y % 3 == 0"
      ],
      "execution_count": null,
      "outputs": [
        {
          "output_type": "execute_result",
          "data": {
            "text/plain": [
              "True"
            ]
          },
          "metadata": {
            "tags": []
          },
          "execution_count": 11
        }
      ]
    },
    {
      "cell_type": "code",
      "metadata": {
        "id": "ka3GAGZyRIy6",
        "colab": {
          "base_uri": "https://localhost:8080/"
        },
        "outputId": "091690e6-29d3-4d59-efc2-7c3c59440771"
      },
      "source": [
        "not (y % 2 == 0)"
      ],
      "execution_count": null,
      "outputs": [
        {
          "output_type": "execute_result",
          "data": {
            "text/plain": [
              "False"
            ]
          },
          "metadata": {
            "tags": []
          },
          "execution_count": 16
        }
      ]
    },
    {
      "cell_type": "code",
      "metadata": {
        "id": "DvA6Yqc5RIzD",
        "colab": {
          "base_uri": "https://localhost:8080/"
        },
        "outputId": "6d0a2acf-6d9a-484e-9243-db793826d957"
      },
      "source": [
        "not (x > 0)"
      ],
      "execution_count": null,
      "outputs": [
        {
          "output_type": "execute_result",
          "data": {
            "text/plain": [
              "True"
            ]
          },
          "metadata": {
            "tags": []
          },
          "execution_count": 15
        }
      ]
    },
    {
      "cell_type": "markdown",
      "metadata": {
        "id": "CCacuWg_RIzN"
      },
      "source": [
        "**Avaliação de curto-circuito**: \n",
        "   * em uma expressão com ***or***, o interpretador de Python avalia primeiro a expressão da esquerda. Se for igual a ***True***, on interpretador não avalia a expressão da direita\n",
        "   \n",
        "   \n",
        "   * em uma expressão com ***and***, se a expressão da esquerda for ***False***, o interpretador não avalia a expressão da direita.\n",
        "   \n",
        "   \n",
        "## Execução condicional\n",
        "\n",
        "Para escrever programas úteis, quase sempre precisamos ter a habilidade de **verificar condições** e adaptar o comportamento do programa de acordo com o resultado dessas verificações.     \n",
        "\n",
        "==> **Declarações condicionais** \n",
        "\n",
        "\n",
        "A forma mais simples é a declaração ***if***:"
      ]
    },
    {
      "cell_type": "code",
      "metadata": {
        "id": "15mJwyQKRIzP",
        "colab": {
          "base_uri": "https://localhost:8080/"
        },
        "outputId": "77377af8-6627-410e-98e1-8d9f35408394"
      },
      "source": [
        "# Exemplo de execução condicional:\n",
        "if x % 2 == 0:\n",
        "    print(x, \" é par.\")\n",
        "    print(\"Você sabia que 2 é o único número par que é também número primo?\")\n",
        "else:\n",
        "    print(x, \" é impar.\")\n",
        "    print(\"Você sabia que a multiplicação de dois números ímpares \" +\n",
        "                                         \"sempre gera um resultado ímpar?\")"
      ],
      "execution_count": null,
      "outputs": [
        {
          "output_type": "stream",
          "text": [
            "0  é par.\n",
            "Você sabia que 2 é o único número par que é também número primo?\n"
          ],
          "name": "stdout"
        }
      ]
    },
    {
      "cell_type": "markdown",
      "metadata": {
        "id": "dOkAb3IzRIza"
      },
      "source": [
        "A expressão booleana após a declaração ***if*** é chamada de **condição**. \n",
        "* Se for verdade, todas as instruções indentadas serão executadas. \n",
        "* Se não, então todas as declarações indentadas sob a **cláusula** ***else*** serão executadas.\n",
        "\n",
        "\n",
        "A sintaxe de uma declaração ***if*** é a seguinte:\n",
        "\n"
      ]
    },
    {
      "cell_type": "code",
      "metadata": {
        "id": "plY8gPoaRIzc"
      },
      "source": [
        "if BOOLEAN EXPRESSION:     # cabeçalho da declaração condicional\n",
        "       STATEMENTS_1        # Executado se o resultado da condição booleana for True. Esse é o **bloco** da declaração condicional\n",
        "else:\n",
        "       STATEMENTS_2        # Executado se o resultado da condição booleana for False. **bloco** da cláusula ***else***"
      ],
      "execution_count": null,
      "outputs": []
    },
    {
      "cell_type": "markdown",
      "metadata": {
        "id": "xFLutcW3RIzo"
      },
      "source": [
        "### Também é possível fazer uma declaração condicional, omitindo a cláusula ***else***"
      ]
    },
    {
      "cell_type": "code",
      "metadata": {
        "id": "9eKO9KAWRIzr",
        "colab": {
          "base_uri": "https://localhost:8080/"
        },
        "outputId": "77c32558-515c-4d6c-d3a6-fe4fbc85f193"
      },
      "source": [
        "import math\n",
        "if x < 0:\n",
        "    print(\"O número negativo \",  x, \" não é válido.\")\n",
        "    x = 42\n",
        "    print(\"Decidi usar o número 42.\")\n",
        "\n",
        "print(\"A raiz quadrada de \", x, \"é\", math.sqrt(x))\n"
      ],
      "execution_count": null,
      "outputs": [
        {
          "output_type": "stream",
          "text": [
            "A raiz quadrada de  42 é 6.48074069840786\n"
          ],
          "name": "stdout"
        }
      ]
    },
    {
      "cell_type": "markdown",
      "metadata": {
        "id": "qMnr_MJeRIz0"
      },
      "source": [
        "No exemplo acima a última expressão de print não faz parte do bloco da declaração condicional pois não está indentada. Será sempre executada."
      ]
    },
    {
      "cell_type": "markdown",
      "metadata": {
        "id": "H265ZJjIRI0J"
      },
      "source": [
        "## Condicionais encadeadas\n",
        "\n",
        "Às vezes há mais de duas possibilidades e precisamos de mais de dois ramos. Uma maneira de expressar uma computação assim é uma condicional encadeada:"
      ]
    },
    {
      "cell_type": "code",
      "metadata": {
        "id": "2T74cSiqRI0L"
      },
      "source": [
        "x = 0\n",
        "y = 10"
      ],
      "execution_count": null,
      "outputs": []
    },
    {
      "cell_type": "code",
      "metadata": {
        "id": "YlPuaeb4RI0Q",
        "colab": {
          "base_uri": "https://localhost:8080/"
        },
        "outputId": "cd8b2a16-5730-431b-939f-bde8962c5540"
      },
      "source": [
        "if x < y:\n",
        "    print('x is less than y')\n",
        "    print(x)\n",
        "elif x > y:\n",
        "    print('x is greater than y')\n",
        "else:\n",
        "    print('x and y are equal')"
      ],
      "execution_count": null,
      "outputs": [
        {
          "output_type": "stream",
          "text": [
            "x is less than y\n",
            "0\n"
          ],
          "name": "stdout"
        }
      ]
    },
    {
      "cell_type": "markdown",
      "metadata": {
        "id": "IuqDw_3YRIz2"
      },
      "source": [
        "## A declaração de retorno\n",
        "\n",
        "Já vimos anteriormente que uma função pode retornar um valor ou ser vazia (*void*).\n",
        "\n",
        "Algumas funções podem terminar antes de chegar ao fim e retornar (ou não) um valor, caso uma dada condição seja cumprida"
      ]
    },
    {
      "cell_type": "code",
      "metadata": {
        "id": "khZyyZsWRIz4",
        "colab": {
          "base_uri": "https://localhost:8080/"
        },
        "outputId": "e166d117-af7f-4514-9385-653b9a2d29fc"
      },
      "source": [
        "def print_raiz_quadrada(x):\n",
        "    if x <= 0:\n",
        "        print(\"Somente valores positivos, por favor.\")\n",
        "        return\n",
        "\n",
        "    result = x**0.5\n",
        "    print(\"A raiz de \", x, \"é\", result)\n",
        "    \n",
        "print_raiz_quadrada(-8)\n",
        "print_raiz_quadrada(9)"
      ],
      "execution_count": null,
      "outputs": [
        {
          "output_type": "stream",
          "text": [
            "Somente valores positivos, por favor.\n",
            "A raiz de  9 é 3.0\n"
          ],
          "name": "stdout"
        }
      ]
    },
    {
      "cell_type": "markdown",
      "metadata": {
        "id": "7xJo458eRIz_"
      },
      "source": [
        "### Exercícios\n",
        "\n",
        "1. Considere o seguinte script:"
      ]
    },
    {
      "cell_type": "code",
      "metadata": {
        "id": "vB4IycDrhrGa"
      },
      "source": [
        "import turtle\n",
        "\n",
        "def draw_bar(t, height):\n",
        "    \"\"\" Get turtle t to draw one bar, of height. \"\"\"\n",
        "    t.left(90)\n",
        "    t.forward(height)\n",
        "    t.right(90)\n",
        "    t.forward(40)\n",
        "    t.right(90)\n",
        "    t.forward(height)\n",
        "    t.left(90)\n",
        "    t.forward(10)\n",
        "    #t.leftt(90)\n",
        "\n",
        "tess = turtle.Turtle() #instanciação\n",
        "jn = turtle.Screen()\n",
        "\n",
        "tess.color(\"blue\")\n",
        "jn.bgcolor(\"white\")\n",
        "tess.penup() #levantar a caneta\n",
        "tess.goto(-200,-150) #mudar posicao de inicio \n",
        "tess.pendown() #abaixar a caneta\n",
        "\n",
        "xs = [48,117,200,240,160,260,220]\n",
        "\n",
        "for a in xs:\n",
        "    draw_bar(tess, a)"
      ],
      "execution_count": null,
      "outputs": []
    },
    {
      "cell_type": "markdown",
      "metadata": {
        "id": "7UXSE3AaRI0H"
      },
      "source": [
        "1) Modifique-o para que o resultado seja um **histograma**, como o mostrado na figura abaixo.\n",
        "Amplie seu script para que seja possível passar ao programa dados (frequência), com o valor do bin (classe de frequência) e cores determinados pelo usuário.\n",
        "\n",
        "\n",
        "Adicione declarações condicionais à função para casos passíveis de gerar erros, como por exemplo, se alguma variável do argumento da função não for definida.\n",
        "\n",
        "***Exemplo***: Generalize sua função para tomar como argumento uma lista que contenha as frequências do histograma e verifique que o argumento realmente é uma lista. Caso não seja, imprima uma mensagem de erro.\n",
        "\n",
        "![](https://raw.githubusercontent.com/malbouis/Python_intro/master/aulas_2019/pics/histo.png)\n",
        "\n",
        "2) Repita o exercício 1) usando **Manipulação de exceção em Python** (pesquisem!!!!), com as cláusulas ```try``` e ```except```.  <=== **A ser apresentado em sala de aula**.\n",
        "\n",
        "2) **Desafio**: Faça um programa equivalente ao do item 1., utilizando ***matplotlib*** e ***numpy*** ao invés de ***turtle***"
      ]
    },
    {
      "cell_type": "markdown",
      "metadata": {
        "id": "69UWh51GNzpe"
      },
      "source": [
        "#Exercício 1"
      ]
    },
    {
      "cell_type": "code",
      "metadata": {
        "id": "PsL_NL9xN2lC"
      },
      "source": [
        "import turtle\n",
        "\n",
        "def draw_bar(t, lista):\n",
        "  if type(lista) is list:\n",
        "    for valores in lista:\n",
        "      t.begin_fill()\n",
        "      t.left(90)\n",
        "      t.forward(valores)\n",
        "      t.color(cor_indice)\n",
        "      t.write(str(valores))\n",
        "      t.color(cor_linha)\n",
        "      t.fillcolor(cor_colunas)\n",
        "      t.right(90)\n",
        "      t.forward(40)\n",
        "      t.right(90)\n",
        "      t.forward(valores)\n",
        "      t.left(90)\n",
        "      t.fill(cor_colunas)\n",
        "      t.end_fill()\n",
        "  else:\n",
        "    print(\"não entrou com uma lista\")\n",
        "\n",
        "tess = turtle.Turtle() #instanciação\n",
        "jn = turtle.Screen()\n",
        "\n",
        "\n",
        "\n",
        "\n",
        "v=[2]\n",
        "print(type(v))\n",
        "\n",
        "\n",
        "cor_linha=input(\"Entre com a cor das linhas:\")\n",
        "cor_colunas = input(\"Entre com a cor que vai preencher as colunas:\")\n",
        "cor_indice = input(\"Entre com a cor que os indices terão\")\n",
        "cor_fundo = input(\"Entre com a cor do fundo:\")\n",
        "#xs=[]\n",
        "\n",
        "n = int(input('Digite a lista de frequencias '))\n",
        "\n",
        "frequencia = list()\n",
        "for c in range(1, n + 1):\n",
        "    x = input(\"Digite a frequência\")\n",
        "    frequencia.append(x)\n",
        "\n",
        "#print()\n",
        "#print(f'\\033[32mA lista gerada foi: {valores}\\033[m')\n",
        "\n",
        "\n",
        "tess.color(cor_linha)\n",
        "jn.bgcolor(cor_fundo)\n",
        "tess.penup() #levantar a caneta\n",
        "tess.goto(-200,-150) #mudar posicao de inicio \n",
        "tess.pendown() #abaixar a caneta\n",
        "tess.fillcolor(cor_colunas)\n",
        "\n",
        "\n",
        "\n",
        "\n",
        "\n",
        "\n",
        "#print(a)\n",
        "\n",
        "\n",
        "draw_bar(tess, frequencia)"
      ],
      "execution_count": null,
      "outputs": []
    },
    {
      "cell_type": "markdown",
      "metadata": {
        "id": "ETdMUErNRyon"
      },
      "source": [
        "#Exercício 2"
      ]
    },
    {
      "cell_type": "code",
      "metadata": {
        "id": "lAKTDELtKKzv"
      },
      "source": [
        "import turtle\n",
        "\n",
        "def draw_bar(t, lista):\n",
        "  if type(lista) is list:\n",
        "    for valores in lista:\n",
        "      t.begin_fill()\n",
        "      t.left(90)\n",
        "      t.forward(valores)\n",
        "      t.color(cor_indice)\n",
        "      t.write(str(valores))\n",
        "      t.color(cor_linha)\n",
        "      t.fillcolor(cor_colunas)\n",
        "      t.right(90)\n",
        "      t.forward(40)\n",
        "      t.right(90)\n",
        "      t.forward(valores)\n",
        "      t.left(90)\n",
        "      t.fill(cor_colunas)\n",
        "      t.end_fill()\n",
        "  else:\n",
        "    print(\"não entrou com uma lista\")\n",
        "\n",
        "tess = turtle.Turtle() #instanciação\n",
        "jn = turtle.Screen()\n",
        "\n",
        "\n",
        "\n",
        "\n",
        "v=[2]\n",
        "print(type(v))\n",
        "\n",
        "\n",
        "cor_linha=input(\"Entre com a cor das linhas:\")\n",
        "cor_colunas = input(\"Entre com a cor que vai preencher as colunas:\")\n",
        "cor_indice = input(\"Entre com a cor que os indices terão\")\n",
        "cor_fundo = input(\"Entre com a cor do fundo:\")\n",
        "#xs=[]\n",
        "\n",
        "n = int(input('Digite a lista de frequencias '))\n",
        "\n",
        "frequencia = list()\n",
        "for c in range(n):\n",
        "  try:\n",
        "    x = int(input(\"Digite a frequência\"))\n",
        "    frequencia.append(x)\n",
        "  except:\n",
        "    print(\"Comentário do GM: ai não padrin, entro com algo que não fosse inteiro?\")\n",
        "    \n",
        "\n",
        "\n",
        "\n",
        "tess.color(cor_linha)\n",
        "jn.bgcolor(cor_fundo)\n",
        "tess.penup() #levantar a caneta\n",
        "tess.goto(-200,-150) #mudar posicao de inicio \n",
        "tess.pendown() #abaixar a caneta\n",
        "tess.fillcolor(cor_colunas)\n",
        "\n",
        "\n",
        "\n",
        "\n",
        "\n",
        "\n",
        "#print(a)\n",
        "\n",
        "\n",
        "draw_bar(tess, frequencia)"
      ],
      "execution_count": null,
      "outputs": []
    },
    {
      "cell_type": "markdown",
      "metadata": {
        "id": "UYqtRb7TvfOX"
      },
      "source": [
        "#Exerćicios 2- DESAFIO"
      ]
    },
    {
      "cell_type": "code",
      "metadata": {
        "id": "9NyijEIzvk_x",
        "outputId": "97b35ea1-afda-4ba0-f0db-e663eb6fa5aa",
        "colab": {
          "base_uri": "https://localhost:8080/",
          "height": 442
        }
      },
      "source": [
        "import matplotlib.pyplot as plt\n",
        "import numpy as np\n",
        "\n",
        "n = int(input(\"Quantas frequências quer no histograma? \"))\n",
        "bins = np.arange(n)\n",
        "print(bins)\n",
        "frequencia = list()\n",
        "for i in range(int(n)):\n",
        "  try:\n",
        "    x = int(input(\"Digite a frequência: \"))\n",
        "    frequencia.append(x)\n",
        "  except:\n",
        "    booliana = True\n",
        "    while  booliana == True:\n",
        "      print(\"ERRO: ai não padrin, entrou com algo que não fosse inteiro? Entre com um inteiro! \")\n",
        "      try:\n",
        "        x = int(input(\"Digite a frequência: \"))\n",
        "        frequencia.append(x)\n",
        "        booliana = False\n",
        "      except:\n",
        "        booliana = True\n",
        "cor_linha=input(\"Entre com a cor das linhas:\")\n",
        "cor_colunas = input(\"Entre com a cor que vai preencher as colunas:\")\n",
        "cor_indice = input(\"Entre com a cor que os indices terão\")\n",
        "cor_fundo = input(\"Entre com a cor do fundo:\")\n",
        "\n",
        "plt.bar(bins, frequencia, width=1, color=cor_colunas,edgecolor=cor_linha)\n",
        "plt.rcParams['figure.facecolor'] = cor_fundo\n",
        "plt.axis(\"off\")\n",
        "#plt.xaxis().set_visible(False)\n",
        "#plt.axes.get_yaxis().set_visible(False)\n",
        "for i, v in enumerate(frequencia):\n",
        "    plt.text(i - .5,v + 3, str(v), color=cor_indice, fontweight='bold')\n",
        "plt.show()\n"
      ],
      "execution_count": 24,
      "outputs": [
        {
          "name": "stdout",
          "output_type": "stream",
          "text": [
            "Quantas frequências quer no histograma? 5\n",
            "[0 1 2 3 4]\n",
            "Digite a frequência: 25\n",
            "Digite a frequência: 50\n",
            "Digite a frequência: 60\n",
            "Digite a frequência: 20\n",
            "Digite a frequência: 120\n",
            "Entre com a cor das linhas:blue\n",
            "Entre com a cor que vai preencher as colunas:red\n",
            "Entre com a cor que os indices terãoblue\n",
            "Entre com a cor do fundo:pink\n"
          ]
        },
        {
          "output_type": "display_data",
          "data": {
            "image/png": "[encoded data removed]",
            "text/plain": [
              "<Figure size 432x288 with 1 Axes>"
            ]
          },
          "metadata": {}
        }
      ]
    }
  ]
}