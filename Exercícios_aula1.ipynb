{
  "nbformat": 4,
  "nbformat_minor": 0,
  "metadata": {
    "colab": {
      "name": "Exercícios_aula1.ipynb",
      "provenance": [],
      "authorship_tag": "ABX9TyO5H85kGVQmb+TgjAWERUNP",
      "include_colab_link": true
    },
    "kernelspec": {
      "name": "python3",
      "display_name": "Python 3"
    },
    "language_info": {
      "name": "python"
    }
  },
  "cells": [
    {
      "cell_type": "markdown",
      "metadata": {
        "id": "view-in-github",
        "colab_type": "text"
      },
      "source": [
        "<a href=\"https://colab.research.google.com/github/MataiasCost/Python_UERJ/blob/main/Exerc%C3%ADcios_aula1.ipynb\" target=\"_parent\"><img src=\"https://colab.research.google.com/assets/colab-badge.svg\" alt=\"Open In Colab\"/></a>"
      ]
    },
    {
      "cell_type": "markdown",
      "metadata": {
        "id": "Sfw01jwRal-S"
      },
      "source": [
        "#1- Se você fizer uma corrida de 10 quilômetros em 43 minutos e 30 segundos, a qual será seu tempo médio por milha? Qual é a sua velocidade média em milhas por hora? (Dica: há 1,61 quilômetros em uma milha). \n"
      ]
    },
    {
      "cell_type": "code",
      "metadata": {
        "colab": {
          "base_uri": "https://localhost:8080/"
        },
        "id": "Oh5ZTuMcTYCd",
        "outputId": "941d8171-5cee-477d-e6c9-dfbe292ca5f9"
      },
      "source": [
        "#Declarando as variáveis\n",
        "distancia_km = 10 #km\n",
        "tempo_minutos = 43 #minutos\n",
        "tempo_segundos = 30 #segundos\n",
        "tempo_horas = 0 #horas\n",
        "#Definição da função que vou utilizar\n",
        "def km_para_milhas(km):\n",
        "  milhas = km/1.61\n",
        "  return milhas\n",
        "def tempo_total_em_segundos(tempo_hor=0,tempo_min=0,tempo_seg=0):\n",
        "  tempo_total = tempo_hor*3600+tempo_min*60+tempo_seg\n",
        "  return tempo_total\n",
        "def tempo_total_em_horas(tempo_hor=0,tempo_min=0,tempo_seg=0):\n",
        "  tempo_total = tempo_hor+tempo_min/60+tempo_seg/3600\n",
        "  return tempo_total\n",
        "def tempo_medio(distancia,tempo_hor,tempo_min,tempo_seg):\n",
        "  return tempo_total_em_segundos(tempo_hor,tempo_min,tempo_seg)/km_para_milhas(distancia)\n",
        "\n",
        "\n",
        "\n",
        "def velocidade_media_hora(distancia_km,tempo_hor,tempo_min,tempo_seg):\n",
        "  return km_para_milhas(distancia_km)/tempo_total_em_horas(tempo_hor,tempo_min,tempo_seg)\n",
        "\n",
        "\n",
        "\n",
        "print(tempo_medio(distancia_km,tempo_horas,tempo_minutos,tempo_segundos),'segundos por milha')\n",
        "print(velocidade_media_hora(distancia_km,tempo_horas,tempo_minutos,tempo_segundos),'milhas/h')\n"
      ],
      "execution_count": null,
      "outputs": [
        {
          "output_type": "stream",
          "text": [
            "420.21000000000004 segundos por milha\n",
            "8.567144998929106 milhas/h\n"
          ],
          "name": "stdout"
        }
      ]
    },
    {
      "cell_type": "markdown",
      "metadata": {
        "id": "5NimTiBTa6JG"
      },
      "source": [
        "# Desde sua varanda você escuta o som do primeiro fogo artificial do reveillon 3 segundos depois de ver a luz, qual a distância? (o som tem velocidade 343 m/s e a luz $3\\times 10^8$ m/s). "
      ]
    },
    {
      "cell_type": "code",
      "metadata": {
        "colab": {
          "base_uri": "https://localhost:8080/"
        },
        "id": "jVorjpwZbBKl",
        "outputId": "08a62f9d-0408-4dff-f2a7-6ab343ad0564"
      },
      "source": [
        "#Declaração das variáveis\n",
        "diferenca_tempo = 3 #segundos\n",
        "velocidade_luz=3*(10**8) #m/s\n",
        "velocidade_som = 343    #m/s\n",
        "  #Cena do ocorrido\n",
        "  # .=varanda, *=origem dos fogos, ~=ditância percorrida pela luz, (((=distancia percorrida pelo som\n",
        "  #Começo:        .                                       *             Tempo t= 0 segundos\n",
        "  #\n",
        "  #-----------------------------------------------------------------------------\n",
        "  #Meio:          .~~~~~~~~~~~~~~~~~~~~~~~~~~~~~~~~~~~~~~~*             Tempo t= tempo_luz segundos\n",
        "  #                                   ((((((((((((((((((((\n",
        "  #-----------------------------------------------------------------------------\n",
        "  #Fim: ~~~~~~~~~~.~~~~~~~~~~~~~~~~~~~~~~~~~~~~~~~~~~~~~~~*\n",
        "  #                .(((((((((((((((((((((((((((((((((((((((             Tempo t = tempo_luz+3 segundos\n",
        "  #------------------------------------------------------------------------------\n",
        "  #Consideração: .~~~~~~~~~~~~~~~~~~~~~~~~~~~~~~~~~~~~~~~* = velocidade_da_luz*tempo_luz\n",
        "  #Consideração: .(((((((((((((((((((((((((((((((((((((((* = velocidade_do_som *(tempo_luz+3)\n",
        "  #Podemos achar isso com base na seguinte relação: veclocidad_luz * tempo_luz = velocidade_som*(tempo_luz+3) -> tempo_luz = velocidade_do_som*3/(velocidade_luz-velocidade_som)\n",
        "  #e por fim distancia dos fogos até a varanda é velocidade_da_luz*tempo_luz\n",
        "def distancia(velocidade_luz,velocidade_som,diferença_tempo):\n",
        "  tempo_luz = (velocidade_som*3)/(velocidade_luz - velocidade_som)\n",
        "  distancia = velocidade_luz*tempo_luz\n",
        "  return distancia\n",
        "\n",
        "print(distancia(velocidade_luz,velocidade_som,diferenca_tempo),' metros')"
      ],
      "execution_count": null,
      "outputs": [
        {
          "output_type": "stream",
          "text": [
            "1029.0011764913452  metros\n"
          ],
          "name": "stdout"
        }
      ]
    },
    {
      "cell_type": "markdown",
      "metadata": {
        "id": "Z2tq-h5klHaB"
      },
      "source": [
        "# Ache os zeros da função: y= 3*x²-4*x-10"
      ]
    },
    {
      "cell_type": "code",
      "metadata": {
        "colab": {
          "base_uri": "https://localhost:8080/"
        },
        "id": "GMnxQz0IlgFs",
        "outputId": "1baee0a4-7877-4e2c-8bc8-f075133b3c56"
      },
      "source": [
        "import numpy\n",
        "# https://numpy.org/doc/stable/reference/generated/numpy.roots.html\n",
        "numpy.roots([3,-4,-10])"
      ],
      "execution_count": null,
      "outputs": [
        {
          "output_type": "execute_result",
          "data": {
            "text/plain": [
              "array([ 2.6103173 , -1.27698396])"
            ]
          },
          "metadata": {
            "tags": []
          },
          "execution_count": 26
        }
      ]
    },
    {
      "cell_type": "markdown",
      "metadata": {
        "id": "hCnCqsnyqzSu"
      },
      "source": [
        "#Se, ao meio dia, a sombra de um poste de 5 m de altura tem apenas 50 cm de comprimento no chão, qual o ângulo zenital do sol?"
      ]
    },
    {
      "cell_type": "code",
      "metadata": {
        "colab": {
          "base_uri": "https://localhost:8080/"
        },
        "id": "ijNGqk7Dq468",
        "outputId": "0d4d23f2-b374-409b-964e-759713c542a6"
      },
      "source": [
        "import math\n",
        "print(math.atan(0.5/5)*57.2958)"
      ],
      "execution_count": 1,
      "outputs": [
        {
          "output_type": "stream",
          "text": [
            "5.710595179403122\n"
          ],
          "name": "stdout"
        }
      ]
    },
    {
      "cell_type": "markdown",
      "metadata": {
        "id": "Lxg-cKo2Fjmh"
      },
      "source": [
        "#Calcule o seu IMC: IMC = M / A² (com a massa em Kg e a altura em metros). Um valor saudável estara --em geral-- entre 20-25. Um bebê de 6 meses \"gorducho\" tem 70 cm de \"comprimento\" e 11 kg de massa, qual o IMC dele? "
      ]
    },
    {
      "cell_type": "code",
      "metadata": {
        "id": "NQvNBkdSFm1d",
        "outputId": "6b0de877-c2a0-421e-b2e1-82064455b532",
        "colab": {
          "base_uri": "https://localhost:8080/"
        }
      },
      "source": [
        "peso = 11 #Kilogramas\n",
        "altura = 0.7 #metros\n",
        "def IMC(massa,altura):\n",
        "  return massa/altura**2\n",
        "print(IMC(peso,altura))"
      ],
      "execution_count": 4,
      "outputs": [
        {
          "output_type": "stream",
          "text": [
            "22.44897959183674\n"
          ],
          "name": "stdout"
        }
      ]
    },
    {
      "cell_type": "markdown",
      "metadata": {
        "id": "d6XdYhqEGZuJ"
      },
      "source": [
        "#Calcule a velocidade final de um objeto em queda livre a partir de 3 metros de altura (sem resistencia do ar). Calcule o tempo que esse objeto demora para cair"
      ]
    },
    {
      "cell_type": "code",
      "metadata": {
        "id": "m_FgUZBBGclq",
        "outputId": "562bb0d8-a16c-43e4-c3a8-a820bff99e04",
        "colab": {
          "base_uri": "https://localhost:8080/"
        }
      },
      "source": [
        "import math as x\n",
        "altura = 3 # metros\n",
        "g = 10 #m/s²\n",
        "def velocidade_queda_livre(altura,aceleração_gravidade):\n",
        "  return x.sqrt(2*aceleração_gravidade*altura)\n",
        "def tempo_de_queda(altura,aceleração_gravidade):\n",
        "  return x.sqrt(2*altura/aceleração_gravidade)\n",
        "\n",
        "print(velocidade_queda_livre(altura,g), 'm/s')\n",
        "\n",
        "print(tempo_de_queda(altura,g),' segundos' )"
      ],
      "execution_count": 7,
      "outputs": [
        {
          "output_type": "stream",
          "text": [
            "7.745966692414834 m/s\n",
            "0.7745966692414834  segundos\n"
          ],
          "name": "stdout"
        }
      ]
    },
    {
      "cell_type": "code",
      "metadata": {
        "id": "49cdLNR5IYwp"
      },
      "source": [
        ""
      ],
      "execution_count": null,
      "outputs": []
    }
  ]
}